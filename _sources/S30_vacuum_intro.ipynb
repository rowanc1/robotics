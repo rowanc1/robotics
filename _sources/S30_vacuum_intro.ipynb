{
 "cells": [
  {
   "cell_type": "markdown",
   "metadata": {
    "colab_type": "text",
    "id": "view-in-github",
    "tags": [
     "no-tex"
    ]
   },
   "source": [
    "<a href=\"https://colab.research.google.com/github/gtbook/robotics/blob/main/S30_vacuum_intro.ipynb\" target=\"_parent\"><img src=\"https://colab.research.google.com/assets/colab-badge.svg\" alt=\"Open In Colab\"/></a>"
   ]
  },
  {
   "cell_type": "code",
   "execution_count": 1,
   "metadata": {
    "id": "JoW4C_OkOMhe",
    "tags": [
     "remove-cell"
    ]
   },
   "outputs": [
    {
     "name": "stdout",
     "output_type": "stream",
     "text": [
      "Note: you may need to restart the kernel to use updated packages.\n"
     ]
    }
   ],
   "source": [
    "%pip install -q -U gtbook\n"
   ]
  },
  {
   "cell_type": "code",
   "execution_count": 2,
   "metadata": {
    "id": "10-snNDwOSuC",
    "tags": [
     "remove-cell"
    ]
   },
   "outputs": [],
   "source": [
    "import numpy as np\n",
    "import plotly.express as px\n",
    "import gtsam\n",
    "\n",
    "from gtbook.discrete import Variables\n",
    "from gtbook.display import show, pretty\n"
   ]
  },
  {
   "attachments": {},
   "cell_type": "markdown",
   "metadata": {
    "id": "nAvx4-UCNzt2"
   },
   "source": [
    "# A Robot Vacuum Cleaner\n",
    "\n",
    "> A vacuum cleaning robot can be used to model reasoning over time about probabilistic actions in a discrete state space.\n",
    "\n",
    "<img src=\"Figures3/S30-iRobot_vacuuming_robot-08.jpg\" alt=\"Splash image with a robot that vaguely looks like a vacuum\" width=\"60%\" align=center style=\"vertical-align:middle;margin:10px 0px\">"
   ]
  },
  {
   "cell_type": "markdown",
   "metadata": {
    "id": "nAvx4-UCNzt2"
   },
   "source": [
    "The second robot we will discuss is a vacuuming robot.  We assume that this robot is equipped with software that can perform navigation, motion planning, and motion control.  This assumption allows us to focus on high-level problems (for example, deciding which room to clean next), without worrying now about low-level details (e.g., planning specific paths\n",
    "to cover a particular room, or navigating through a doorway).\n",
    "\n",
    "There are a number of differences between this robot and the trash sorting robot of the previous chapter.\n",
    "First, the effects of actions depend on the current world state; if a robot is in the living room and moves to\n",
    "its left, it will arrive to a different location than if it had started in the office.\n",
    "Second, the actions executed by the vacuum cleaning robot have uncertain effects.\n",
    "This is much different than the actions of the trash sorting robot, which achieved its goals deterministically,\n",
    "regardless of the current state (the \"move object to the metal bin\" action moves an object to the metal\n",
    "bin, regardless of the category of the object, and with 100% reliability).\n",
    "Third, because the effects of actions depend on state, achieving goals in the future will depend\n",
    "on the actions the robot executes now (since current actions affect future states).\n",
    "Therefore, this robot must consider how the world state evolves with the passing of time.\n",
    "\n",
    "In this chapter, we will learn about probabilistic outcomes of actions, which we can model with conditional probability distributions, just like we did with the measurements in the previous chapter.\n",
    "We will learn how to propagate uncertainty forward in time for specific sequences of actions,\n",
    "and how to generate sample trajectories from the corresponding probability distributions.\n",
    "For our vacuum robot, states correspond to rooms in the house and trajectories\n",
    "correspond to the robot moving from room to room.\n",
    "\n",
    "Sensing will be quite limited in this chapter. \n",
    "We will use a simple (discrete) light sensor.\n",
    "However, because sensor measurements depend on state, and because state depends on\n",
    "the sequence of actions that has been executed, perception becomes a more interesting\n",
    "problem.\n",
    "While our trash sorting robot relied on simple MLE or MAP estimation using the current sensor reading,\n",
    "our vacuum cleaning robot will combine knowledge about the history of its actions (which have uncertain\n",
    "effects) with the sequence of sensor measurements.\n",
    "We will solve this perception problem using **Hidden Markov Models (HMM's)**.\n",
    "An HMM is a probabilistic model for sensing over time.\n",
    "While they initially gained popularity in the field of speech recognition,\n",
    "we will use them to find the most probable sequence of states given a set of measurements and actions.\n",
    "\n",
    "Planning is also more interesting for our vacuum cleaning robot.\n",
    "Instead of choosing a single action to minimize a cost for the current action,\n",
    "we must reason about sequences of actions that occur over time.\n",
    "To do this, we will introduce **Markov Decision Processes (MDPs)**. \n",
    "An MDP adds the notion of *reward*, which will allow us to reason about optimal actions.\n",
    "We will even be able to deduce an optimal *policy*, i.e., a recipe for what to do in each state\n",
    "to maximize the aggregate reward over time.\n",
    "\n",
    "Finally, we will introduce the notion of reinforcement learning, where we will estimate the parameters of an MDP data during the robot's normal operation."
   ]
  }
 ],
 "metadata": {
  "colab": {
   "collapsed_sections": [],
   "include_colab_link": true,
   "name": "S30_vacuum_intro.ipynb",
   "provenance": []
  },
  "interpreter": {
   "hash": "c6e4e9f98eb68ad3b7c296f83d20e6de614cb42e90992a65aa266555a3137d0d"
  },
  "kernelspec": {
   "display_name": "Python 3 (ipykernel)",
   "language": "python",
   "name": "python3"
  },
  "language_info": {
   "codemirror_mode": {
    "name": "ipython",
    "version": 3
   },
   "file_extension": ".py",
   "mimetype": "text/x-python",
   "name": "python",
   "nbconvert_exporter": "python",
   "pygments_lexer": "ipython3",
   "version": "3.9.9"
  },
  "latex_metadata": {
   "affiliation": "Georgia Institute of Technology",
   "author": "Frank Dellaert and Seth Hutchinson",
   "title": "Introduction to Robotics"
  }
 },
 "nbformat": 4,
 "nbformat_minor": 2
}
