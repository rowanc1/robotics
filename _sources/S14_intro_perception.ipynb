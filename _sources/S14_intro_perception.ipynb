{
 "cells": [
  {
   "cell_type": "code",
   "execution_count": null,
   "metadata": {
    "tags": [
     "remove-cell"
    ]
   },
   "outputs": [],
   "source": [
    "%pip install -q -U gtbook\n"
   ]
  },
  {
   "attachments": {},
   "cell_type": "markdown",
   "metadata": {},
   "source": [
    "# Perception\n",
    "\n",
    "> Perception is the act of using sensor values to drive inference about the world.\n",
    "\n",
    "<img src=\"Figures1/S14-Robot_menagerie-03.jpg\" alt=\"Splash image with robot sporting big eyes and a hat\" width=\"40%\" align=center style=\"vertical-align:middle;margin:10px 0px\">"
   ]
  },
  {
   "cell_type": "markdown",
   "metadata": {},
   "source": [
    "Sensors are characterized by observation models that map the state of the world to\n",
    "sensor values.  These models are sometimes called forward models.\n",
    "For a given state of the world, one can use physics to uniquely determine (modulo uncertainty) the sensor output.\n",
    "Perception is concerned with the *inverse* problem:\n",
    "Given a set of sensor measurements, infer something about the state of the world.\n",
    "Inverse problems are notoriously difficult, in part because they are often ill defined.\n",
    "For example, in the noiseless case, if a range sensor is 10 meters from wall, we can easily predict that the sensor reading\n",
    "will be $z = 10$.  The inverse problem is to determine something about the state of the world, given \n",
    "that the sensor measurement is $z = 10$.  This is an ill defined problem, since there are many\n",
    "possible world states that could lead to a measurement of $z=10$.\n",
    "The robot might be $10$ meters from a wall, or perhaps another robot has crossed $10$ meters in front of the sensor,\n",
    "or perhaps an open door $10$ meters in front of the robot has just been closed.\n",
    "Perception is concerned with these inverse problems.\n",
    "\n",
    "In the presence of uncertainty, things become even more difficult.\n",
    "It is easy to illustrate the difficulty with a simple medical example.\n",
    "If you have the flu, there is a very high probability that you will have a fever.\n",
    "But if you have a fever, what is the probability that you have the flu?\n",
    "The latter question is complicated by the fact that there are many possible\n",
    "causes for a fever.\n",
    "Medical doctors use the presence of fever, along with other evidence (sore throat? cough? burning eyes?),\n",
    "combined with contextual knowledge (is it flu season? has there been an outbreak of flu in the past days?).\n",
    "In other words, they perform inference by fusing multiple sources of evidence, and\n",
    "considering the context for the evidence. Bayes law, from probability theory, is the tool\n",
    "that formalizes this inference process, and we will use Bayesian approaches to solve\n",
    "a number of perception problems in this book."
   ]
  }
 ],
 "metadata": {
  "kernelspec": {
   "display_name": "Python 3",
   "language": "python",
   "name": "python3"
  },
  "language_info": {
   "codemirror_mode": {
    "name": "ipython",
    "version": 3
   },
   "file_extension": ".py",
   "mimetype": "text/x-python",
   "name": "python",
   "nbconvert_exporter": "python",
   "pygments_lexer": "ipython3",
   "version": "3.9.12"
  },
  "latex_metadata": {
   "affiliation": "Georgia Institute of Technology",
   "author": "Frank Dellaert and Seth Hutchinson",
   "title": "Introduction to Robotics"
  },
  "vscode": {
   "interpreter": {
    "hash": "b0fa6594d8f4cbf19f97940f81e996739fb7646882a419484c72d19e05852a7e"
   }
  }
 },
 "nbformat": 4,
 "nbformat_minor": 2
}
