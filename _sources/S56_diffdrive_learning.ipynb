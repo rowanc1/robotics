{
 "cells": [
  {
   "cell_type": "markdown",
   "metadata": {
    "colab_type": "text",
    "id": "view-in-github",
    "tags": [
     "no-tex"
    ]
   },
   "source": [
    "<a href=\"https://colab.research.google.com/github/gtbook/robotics/blob/main/S56_diffdrive_learning.ipynb\" target=\"_parent\"><img src=\"https://colab.research.google.com/assets/colab-badge.svg\" alt=\"Open In Colab\"/></a>"
   ]
  },
  {
   "cell_type": "code",
   "execution_count": 1,
   "metadata": {
    "id": "JoW4C_OkOMhe",
    "tags": [
     "remove-cell"
    ]
   },
   "outputs": [
    {
     "name": "stdout",
     "output_type": "stream",
     "text": [
      "Note: you may need to restart the kernel to use updated packages.\n"
     ]
    }
   ],
   "source": [
    "%pip install -q -U gtbook\n"
   ]
  },
  {
   "cell_type": "code",
   "execution_count": 2,
   "metadata": {
    "id": "10-snNDwOSuC",
    "tags": [
     "remove-cell"
    ]
   },
   "outputs": [],
   "source": [
    "import plotly\n",
    "import pandas as pd\n",
    "import plotly.express as px\n",
    "\n",
    "import torch\n",
    "import torch.nn as nn\n",
    "import torch.optim as optim\n",
    "from torch.utils.data import DataLoader, TensorDataset\n",
    "\n",
    "DEVICE = (\n",
    "    torch.device(\"cuda\") if torch.cuda.is_available()\n",
    "    else torch.device(\"mps\") if torch.backends.mps.is_available()\n",
    "    else torch.device(\"cpu\")\n",
    ")\n",
    "print(f\"Using device: {DEVICE}\")"
   ]
  },
  {
   "attachments": {},
   "cell_type": "markdown",
   "metadata": {
    "id": "nAvx4-UCNzt2"
   },
   "source": [
    "# Deep Learning\n",
    "\n",
    "> Stochastic gradient descent and the like.\n",
    "\n",
    "<img src=\"Figures5/S56-Two-wheeled_Toy_Robot-09.jpg\" alt=\"Splash image with steampunk differential drive robot\" width=\"40%\" align=center style=\"vertical-align:middle;margin:10px 0px\">"
   ]
  },
  {
   "cell_type": "markdown",
   "metadata": {},
   "source": [
    "## Supervised Learning Setup\n",
    "\n",
    "> From data, learn concept.\n",
    "\n",
    "In the **supervised learning** setup, we have a large number of examples of inputs $x$ and corresponding labels $y$.\n",
    "We will often refer to the *training dataset* as $D$, consisting of pairs $(x,y)$. The nature of the output labels $y$ determine the type of learning problem we are dealing with:\n",
    "\n",
    "1. **Classification**; If the labels $y$ are *discrete*, we talk about a supervised *classification* problem. The prototypical example is classifying images as portraying either a cat or a dog: here the images are the inputs $x$, and the output label $y \\in \\{\\text{cat},\\text{dog}\\}$.\n",
    "\n",
    "2. **Regression** If the labels $y$ are *continuous*, this is called a supervised *regression* problem. For example, predicting the blue-book value of a second-hand car based on its make, model, year, and miles driven."
   ]
  },
  {
   "cell_type": "markdown",
   "metadata": {},
   "source": [
    "Whether we are talking about classification or regression, the supervised leaning process normally follows these steps:\n",
    "\n",
    "1. Define a model $f$ and its parameters $\\theta$ that allow you to output a prediction $\\hat{y}$ from the input features $x$:\n",
    "\n",
    "$$\n",
    "\\hat{y} = f(x; \\theta)\n",
    "$$\n",
    "\n",
    "2. Divide your data into *training*, *validation*, and *test* datasets. Typically, the largest portion of the data is used for training, while setting aside smaller validation and test portions of the data.\n",
    "\n",
    "2. Train the model using the training data $D_{\\text{train}}$, while monitoring for \"overfitting\" on the validation dataset $D_{\\text{val}}$. We train by adjusting the parameters $\\theta$ to minimize a training loss, both of which we look at in more detail below.\n",
    "\n",
    "3. After we decided to stop the training process, we typically test the model on the held-out dataset $D_{\\text{test}}$ that the training process has never seen, to get an independent assessment on how well the model will generalize towards new, unseen data.\n",
    "\n",
    "Supervised learning is the staple of machine learning and its use has exploded in recent years to encompass almost any human economic activity, ranging from finance to healthcare and everything in between. Most recently the success of large language models is also based on supervised learning, where a \"transformer\"-based model is trained to predict the next word (or token) in a sequence, from very large textual datasets, a paradigm which is rapidly finding its way to different modalities like vision as well."
   ]
  },
  {
   "cell_type": "markdown",
   "metadata": {},
   "source": [
    "## Example: Interpolation in 1D\n",
    "\n",
    "As an example, e formulate a simple regression problem that asks for interpolating functions in 1D. We will create a *differentiable* interpolation scheme that can be trained using samples from any function we want to interpolate, even functions with multi-dimensional outputs.\n",
    "\n",
    "The `LineGrid` class below is designed for this purpose, and divides up the 1D interval over which the function is defined in a number of *cells*, arranged in a 1D grid. It is initialized with two parameters:\n",
    "\n",
    "- `n`: the number of cells in a 1D grid\n",
    "- `d`: the dimensionality of the function we want to interpolate\n",
    "\n",
    "In our case, we will focus on interpolating the grid values defined at the cell boundaries. The `forward` method of the `LineGrid` module performs the interpolation for any value inside the grid."
   ]
  },
  {
   "cell_type": "code",
   "execution_count": 3,
   "metadata": {},
   "outputs": [],
   "source": [
    "def interpolate(v0, v1, alpha):\n",
    "    \"\"\"Interpolate between v0 and v1 using alpha, using unsqueeze to properly handle batches.\"\"\"\n",
    "    return v0 * (1 - alpha.unsqueeze(-1)) + v1 * alpha.unsqueeze(-1)\n",
    "\n",
    "class LineGrid(nn.Module):\n",
    "    \"\"\"A 1D grid with learnable values at the boundaries on n cells.\"\"\"\n",
    "\n",
    "    def __init__(self, n, d=1):\n",
    "        super().__init__()  # Calling the superclass's __init__ method\n",
    "        self.grid = nn.Parameter(nn.init.normal_(torch.empty(n + 1, d)))\n",
    "\n",
    "    def forward(self, x):\n",
    "        X = torch.floor(x).long()\n",
    "        a = x - X  # blending weights (same size as x)\n",
    "        return interpolate(self.grid[X], self.grid[X + 1], a)"
   ]
  },
  {
   "cell_type": "markdown",
   "metadata": {},
   "source": [
    "Here is an example of how to initialize a `LineGrid` instance, and subsequently call its `forward` method:"
   ]
  },
  {
   "cell_type": "code",
   "execution_count": 4,
   "metadata": {},
   "outputs": [
    {
     "name": "stdout",
     "output_type": "stream",
     "text": [
      "Interpolated Output: tensor([[-0.9863, -1.0597],\n",
      "        [-0.3837, -1.2281],\n",
      "        [ 0.5834, -0.3959]], grad_fn=<AddBackward0>)\n"
     ]
    }
   ],
   "source": [
    "grid_module = LineGrid(n=5, d=2)\n",
    "\n",
    "x = torch.Tensor([1.5, 2.7, 3.6])\n",
    "print(\"Interpolated Output:\", grid_module(x))"
   ]
  },
  {
   "cell_type": "markdown",
   "metadata": {},
   "source": [
    "In the example above, the shape of the output is $3\\times 2$ because we asked to interpolate a 2D function (`d` is 2) at three different locations (as `x.shape` is (3,)). In addition, the interpolate function is written to accommodate and shape for the tensor x to allow evaluating over arbitrary batches of examples. If we input a tensor with shape `(b, m)`, the output will have shape `(b, m, d)`, and so forth."
   ]
  },
  {
   "cell_type": "markdown",
   "metadata": {},
   "source": [
    "The output looks rather random, however, because the grid was initialized with random values in the constructor. Below we discuss often-used loss functions and the stochastic gradient descent method to train models, and show how to train the simple regression example above to drive all these concepts home. "
   ]
  },
  {
   "cell_type": "markdown",
   "metadata": {},
   "source": [
    "### Exercise\n",
    "\n",
    "For the example above with $n=5$ and $d=2$, give a single $(x,y)$ pair. What is the model $f$? What are the model parameters $\\theta$? How many parameters are there?"
   ]
  },
  {
   "cell_type": "markdown",
   "metadata": {},
   "source": [
    "## Loss Functions\n",
    "\n",
    "> A loss function for every occasion.\n",
    "\n",
    "Different tasks require different loss functions, and a lot of creativity and research goes into crafting loss functions for complex tasks. For \"vanilla\" regression tasks, we typically use a **mean squared error** loss function as we already encountered before:\n",
    "\n",
    "$$L_{\\text{MSE}}(\\theta; D) \\doteq \\frac{1}{|D|} \\sum_{(x,y)\\in D}|f(x;\\theta)-y|^2$$\n",
    "\n",
    "Above $f(x;\\theta)$ is the continuous prediction function implemented by, say, a neural network, where $\\theta$ represents the weights in all layers. Note that the formula above can be easily generalized to vector-valued labels $y$. In fact, our 1D interpolation example above yielded a 2-dimensional output, so let us illustrate the MSE loss in that case: "
   ]
  },
  {
   "cell_type": "code",
   "execution_count": 5,
   "metadata": {},
   "outputs": [
    {
     "name": "stdout",
     "output_type": "stream",
     "text": [
      "Our MSE Loss: 18.750476837158203\n"
     ]
    }
   ],
   "source": [
    "label = torch.Tensor([[1.0, 2.0], [3.0, 4.0], [5.0, 6.0]])\n",
    "print(\"Our MSE Loss:\", ((grid_module(x) - label)**2).mean().item())"
   ]
  },
  {
   "cell_type": "markdown",
   "metadata": {},
   "source": [
    "We used the vectorized versions of subtraction and power above, and then used the `mean` method of tensors. As you can see, the MSE loss in this case is 14.8715. Even though in this case the calculation is simple, many other loss functions exists and might not be that straightforward to implement. Luckily, PyTorch has many loss functions built-in:"
   ]
  },
  {
   "cell_type": "code",
   "execution_count": 6,
   "metadata": {},
   "outputs": [
    {
     "name": "stdout",
     "output_type": "stream",
     "text": [
      "Pytorch MSE Loss: 18.750476837158203\n"
     ]
    }
   ],
   "source": [
    "mse = nn.MSELoss() # Instantiate the loss function\n",
    "mse_loss = mse(grid_module(x), label) # Compute the loss\n",
    "print(\"Pytorch MSE Loss:\", mse_loss.item())"
   ]
  },
  {
   "cell_type": "markdown",
   "metadata": {},
   "source": [
    "For classification, the **cross entropy** loss function is very popular: it measures the average disagreement of the predicted labels with the ground truth labels:\n",
    "\n",
    "$$L_{\\text{CE}}(\\theta; D) \\doteq \\sum_c \\sum_{(x,y=c)\\in D}\\log\\frac{1}{p_c(x;\\theta)}$$\n",
    "\n",
    "This formula seems perhaps unintuitive and rather complicated. However, it is actually quite intuitive once you understand a few concepts.\n",
    "In particular, in the multi-class classification problem we assume that the model outputs a probability $p_c(x;\\theta)$ for every class $c\\in[N]$, where $N$ is the number of classes. The quantity \n",
    "\n",
    "$$\\log\\frac{1}{p_c(x;\\theta)}$$\n",
    "\n",
    "is called the *surprise* that we should experience when seeing a label $y=c$. \n",
    "Indeed, for example, if we see class $3$ and the probability output by the network is $p_3(x;\\theta)=1$, we are not surprised at all, as $\\log\\frac{1}{1}=\\log 1 = 0$. \n",
    "However, if the probability is only $0.01$, our surprise is $\\log\\frac{1}{0.01}=\\log 100 = 2$.\n",
    "The lower the probability, the higher the surprise. Hence, the cross-entropy above measures the *average surprise* for seeing the labeled examples in the training data. After training, the model is the least surprised possible, hopefully, which is why it is an intuitive loss function to minimize.\n",
    "\n",
    "Note that training with cross-entropy does not guarantee that the outputs can be *truly* interpreted as probabilities: the recent field of \"model calibration\" has shown that especially neural networks can severely over-estimate those probability values in attempting to minimize the loss. If this interpretation is important for the application at hand, several techniques now exist to \"calibrate\" the models to be more interpretable that way."
   ]
  },
  {
   "cell_type": "markdown",
   "metadata": {},
   "source": [
    "## Gradient Descent\n",
    "\n",
    "> Calculate gradient, reduce loss.\n",
    "\n",
    "A neural network output, and in particular a CNN, depends on the large set of continuous weights $W$ that make up its convolutional layers, pooling layers, and fully connected layers. In other words, the neural network is the model $f(x;\\theta)$ in the learning setup discussed above, and the weights $W$ are its parameters $\\theta$.\n",
    "\n",
    "\n",
    "When we train a neural networks, we adjust its weights $W$ to perform better on the task at hand, be it classification or regression. To measure whether the model performs \"better\", we can use one of the loss functions defined above. To adjust the weights, we could calculate the gradient of the loss function with respect to each of the weights, and adjust the weights accordingly. That procedure is called **gradient descent**."
   ]
  },
  {
   "cell_type": "markdown",
   "metadata": {},
   "source": [
    "Below we illustrate gradient descent with the 1D interpolation model we created above. As an example, maybe we can learn a sine and cosine function at the same time? Let us create some training data by creating 500 noisy samples of these two functions. To integrate smoothly with the pytorch library we will use, we create a `TensorDataset` below."
   ]
  },
  {
   "cell_type": "code",
   "execution_count": 7,
   "metadata": {},
   "outputs": [],
   "source": [
    "m = 250  # number of samples to train our model\n",
    "n = 20  # Grid size of 20, allowing for x values between 0 and 20\n",
    "x_samples = torch.rand((m, )) * n\n",
    "noisy_sin = torch.sin(x_samples * 2 * torch.pi / n) + 0.1 * torch.randn((m, ))\n",
    "noisy_cos = torch.cos(x_samples * 2 * torch.pi / n) + 0.1 * torch.randn((m, ))\n",
    "y_samples = torch.stack([noisy_sin, noisy_cos], dim=1)\n",
    "dataset = TensorDataset(x_samples, y_samples)"
   ]
  },
  {
   "cell_type": "markdown",
   "metadata": {},
   "source": [
    "A `TensorDataset` is a PyTorch class that wraps a pair of tensors, and its `__getitem__` method retrieves a training sample by indexing the tensors along the first dimension. For example, we can retrieve the training sample with index 12, or even slice to get the 5 training samples with indices 10..14:"
   ]
  },
  {
   "cell_type": "code",
   "execution_count": 8,
   "metadata": {},
   "outputs": [
    {
     "name": "stdout",
     "output_type": "stream",
     "text": [
      "dataset[12]: (tensor(13.9094), tensor([-0.9877, -0.3878]))\n",
      "dataset[10:15]: (tensor([16.2183,  1.7557, 13.9094, 13.0192, 14.5472]), tensor([[-0.9576,  0.1630],\n",
      "        [ 0.6750,  0.8757],\n",
      "        [-0.9877, -0.3878],\n",
      "        [-0.5698, -0.6289],\n",
      "        [-1.0615, -0.0603]]))\n"
     ]
    }
   ],
   "source": [
    "print(\"dataset[12]:\", dataset[12])\n",
    "print(\"dataset[10:15]:\", dataset[10:15])"
   ]
  },
  {
   "cell_type": "markdown",
   "metadata": {},
   "source": [
    "We can then use the PyTorch training code below, which is a standard way of training any differentiable function, including our LineGrid class. That is  because all the operations inside the LineGrid class are differentiable, so gradient descent will just work.\n",
    "\n",
    "Inside the training loop below, you'll find the typical sequence of operations: zeroing gradients, performing a forward pass to get predictions, computing the loss, and doing a backward pass to update the model's parameters. Try to understand the code, as this same training loop is at the core of most deep learning architectures. Now, let's take a closer look at the code itself, which is extensively documented for clarity:"
   ]
  },
  {
   "cell_type": "code",
   "execution_count": 9,
   "metadata": {},
   "outputs": [],
   "source": [
    "def train_gd(model, dataset, loss_fn, callback=None, learning_rate=0.5, num_iterations=301):\n",
    "    # Initialize optimizer\n",
    "    optimizer = optim.SGD(model.parameters(), lr=learning_rate)\n",
    "    \n",
    "    # Extract data from dataset\n",
    "    x_samples, y_samples = dataset[:]\n",
    "\n",
    "    # Loop over the dataset multiple times (each loop is an iteration)\n",
    "    for iteration in range(num_iterations):\n",
    "        # Zero the parameter gradients\n",
    "        optimizer.zero_grad()\n",
    "\n",
    "        # Forward pass: Compute predicted y by passing x_samples through the model\n",
    "        output = model(x_samples)\n",
    "\n",
    "        # Compute loss\n",
    "        loss = loss_fn(output, y_samples)\n",
    "\n",
    "        # Backward pass and update\n",
    "        loss.backward()\n",
    "        optimizer.step()\n",
    "\n",
    "        # Report if callback is given\n",
    "        if callback is not None:\n",
    "            callback(iteration, model)"
   ]
  },
  {
   "cell_type": "markdown",
   "metadata": {},
   "source": [
    "To use the code, we initialize the model, specify the loss function, and create a callback function that allows us to monitor the progress made by the optimizer. After that, we simply call `train_gd`:"
   ]
  },
  {
   "cell_type": "code",
   "execution_count": 10,
   "metadata": {},
   "outputs": [
    {
     "data": {
      "application/vnd.plotly.v1+json": {
       "config": {
        "plotlyServerURL": "https://plot.ly"
       },
       "data": [
        {
         "hovertemplate": "Iteration=%{x}<br>Loss=%{y}<extra></extra>",
         "legendgroup": "",
         "line": {
          "color": "#636efa",
          "dash": "solid"
         },
         "marker": {
          "symbol": "circle"
         },
         "mode": "lines",
         "name": "",
         "orientation": "v",
         "showlegend": false,
         "type": "scatter",
         "x": [
          0,
          1,
          2,
          3,
          4,
          5,
          6,
          7,
          8,
          9,
          10,
          11,
          12,
          13,
          14,
          15,
          16,
          17,
          18,
          19,
          20,
          21,
          22,
          23,
          24,
          25,
          26,
          27,
          28,
          29,
          30,
          31,
          32,
          33,
          34,
          35,
          36,
          37,
          38,
          39,
          40,
          41,
          42,
          43,
          44,
          45,
          46,
          47,
          48,
          49,
          50,
          51,
          52,
          53,
          54,
          55,
          56,
          57,
          58,
          59,
          60,
          61,
          62,
          63,
          64,
          65,
          66,
          67,
          68,
          69,
          70,
          71,
          72,
          73,
          74,
          75,
          76,
          77,
          78,
          79,
          80,
          81,
          82,
          83,
          84,
          85,
          86,
          87,
          88,
          89,
          90,
          91,
          92,
          93,
          94,
          95,
          96,
          97,
          98,
          99,
          100,
          101,
          102,
          103,
          104,
          105,
          106,
          107,
          108,
          109,
          110,
          111,
          112,
          113,
          114,
          115,
          116,
          117,
          118,
          119,
          120,
          121,
          122,
          123,
          124,
          125,
          126,
          127,
          128,
          129,
          130,
          131,
          132,
          133,
          134,
          135,
          136,
          137,
          138,
          139,
          140,
          141,
          142,
          143,
          144,
          145,
          146,
          147,
          148,
          149,
          150,
          151,
          152,
          153,
          154,
          155,
          156,
          157,
          158,
          159,
          160,
          161,
          162,
          163,
          164,
          165,
          166,
          167,
          168,
          169,
          170,
          171,
          172,
          173,
          174,
          175,
          176,
          177,
          178,
          179,
          180,
          181,
          182,
          183,
          184,
          185,
          186,
          187,
          188,
          189,
          190,
          191,
          192,
          193,
          194,
          195,
          196,
          197,
          198,
          199,
          200,
          201,
          202,
          203,
          204,
          205,
          206,
          207,
          208,
          209,
          210,
          211,
          212,
          213,
          214,
          215,
          216,
          217,
          218,
          219,
          220,
          221,
          222,
          223,
          224,
          225,
          226,
          227,
          228,
          229,
          230,
          231,
          232,
          233,
          234,
          235,
          236,
          237,
          238,
          239,
          240,
          241,
          242,
          243,
          244,
          245,
          246,
          247,
          248,
          249,
          250,
          251,
          252,
          253,
          254,
          255,
          256,
          257,
          258,
          259,
          260,
          261,
          262,
          263,
          264,
          265,
          266,
          267,
          268,
          269,
          270,
          271,
          272,
          273,
          274,
          275,
          276,
          277,
          278,
          279,
          280,
          281,
          282,
          283,
          284,
          285,
          286,
          287,
          288,
          289,
          290,
          291,
          292,
          293,
          294,
          295,
          296,
          297,
          298,
          299,
          300
         ],
         "xaxis": "x",
         "y": [
          1.3804476261138916,
          1.3244589567184448,
          1.2709546089172363,
          1.2198190689086914,
          1.1709420680999756,
          1.1242189407348633,
          1.0795499086380005,
          1.0368398427963257,
          0.9959984421730042,
          0.9569393396377563,
          0.9195805788040161,
          0.8838440775871277,
          0.8496552109718323,
          0.8169432282447815,
          0.7856405973434448,
          0.7556831240653992,
          0.7270091772079468,
          0.6995605230331421,
          0.6732816696166992,
          0.6481195092201233,
          0.6240234375,
          0.6009454727172852,
          0.5788396596908569,
          0.5576621890068054,
          0.5373715758323669,
          0.517927885055542,
          0.4992934465408325,
          0.4814319312572479,
          0.4643091857433319,
          0.44789212942123413,
          0.43214961886405945,
          0.417051762342453,
          0.40257009863853455,
          0.3886774480342865,
          0.3753480315208435,
          0.36255696415901184,
          0.3502808213233948,
          0.338497132062912,
          0.3271843492984772,
          0.31632205843925476,
          0.3058907389640808,
          0.295871764421463,
          0.2862473130226135,
          0.27700042724609375,
          0.2681148648262024,
          0.25957515835762024,
          0.25136661529541016,
          0.2434750348329544,
          0.23588697612285614,
          0.22858959436416626,
          0.22157059609889984,
          0.21481828391551971,
          0.20832140743732452,
          0.20206929743289948,
          0.1960516721010208,
          0.19025878608226776,
          0.18468134105205536,
          0.17931033670902252,
          0.17413730919361115,
          0.169154092669487,
          0.1643528789281845,
          0.15972621738910675,
          0.15526700019836426,
          0.15096841752529144,
          0.1468239426612854,
          0.1428273469209671,
          0.1389726847410202,
          0.13525426387786865,
          0.1316666305065155,
          0.12820452451705933,
          0.12486300617456436,
          0.12163729965686798,
          0.11852279305458069,
          0.11551513522863388,
          0.11261014640331268,
          0.10980379581451416,
          0.10709226876497269,
          0.1044718474149704,
          0.10193905979394913,
          0.09949051588773727,
          0.09712295234203339,
          0.09483332931995392,
          0.09261863678693771,
          0.09047605842351913,
          0.08840284496545792,
          0.08639641851186752,
          0.0844542607665062,
          0.08257396519184113,
          0.08075323700904846,
          0.0789898931980133,
          0.07728176563978195,
          0.07562687993049622,
          0.07402325421571732,
          0.07246903330087662,
          0.07096243649721146,
          0.06950173527002335,
          0.06808526813983917,
          0.06671145558357239,
          0.06537878513336182,
          0.06408579647541046,
          0.0628310889005661,
          0.0616132915019989,
          0.06043113023042679,
          0.05928337201476097,
          0.05816879868507385,
          0.057086281478405,
          0.05603470653295517,
          0.0550130195915699,
          0.05402020364999771,
          0.05305527150630951,
          0.05211729183793068,
          0.0512053444981575,
          0.05031856894493103,
          0.049456119537353516,
          0.04861719533801079,
          0.04780101776123047,
          0.04700683802366257,
          0.04623393714427948,
          0.04548162594437599,
          0.04474923014640808,
          0.044036123901605606,
          0.04334167018532753,
          0.04266528785228729,
          0.042006395757198334,
          0.04136445000767708,
          0.04073890298604965,
          0.04012925177812576,
          0.03953499719500542,
          0.03895566985011101,
          0.03839079663157463,
          0.03783994913101196,
          0.037302687764167786,
          0.03677860274910927,
          0.036267295479774475,
          0.035768382251262665,
          0.035281501710414886,
          0.0348062738776207,
          0.03434238210320473,
          0.033889465034008026,
          0.03344721719622612,
          0.03301531821489334,
          0.03259347379207611,
          0.03218139335513115,
          0.03177879378199577,
          0.031385406851768494,
          0.03100096434354782,
          0.03062521666288376,
          0.030257921665906906,
          0.029898837208747864,
          0.029547741636633873,
          0.02920440025627613,
          0.02886861190199852,
          0.02854016236960888,
          0.02821885235607624,
          0.027904491871595383,
          0.027596889063715935,
          0.027295857667922974,
          0.02700122632086277,
          0.026712825521826744,
          0.026430489495396614,
          0.026154054328799248,
          0.02588336542248726,
          0.025618283078074455,
          0.025358647108078003,
          0.025104325264692307,
          0.024855174124240875,
          0.024611065164208412,
          0.024371875450015068,
          0.02413746900856495,
          0.023907732218503952,
          0.023682542145252228,
          0.02346179634332657,
          0.023245368152856827,
          0.02303316630423069,
          0.022825077176094055,
          0.022620998322963715,
          0.022420836612582207,
          0.02222450077533722,
          0.022031890228390694,
          0.021842915564775467,
          0.021657494828104973,
          0.021475540474057198,
          0.021296970546245575,
          0.021121706813573837,
          0.02094966731965542,
          0.020780781283974648,
          0.020614970475435257,
          0.020452171564102173,
          0.02029230445623398,
          0.020135309547185898,
          0.01998111791908741,
          0.01982966810464859,
          0.019680896773934364,
          0.019534742459654808,
          0.019391145557165146,
          0.0192500539124012,
          0.019111406058073044,
          0.01897515170276165,
          0.01884123496711254,
          0.018709605559706688,
          0.01858021877706051,
          0.018453018739819527,
          0.01832796074450016,
          0.01820499636232853,
          0.01808408461511135,
          0.017965182662010193,
          0.017848242074251175,
          0.017733225598931313,
          0.017620088532567024,
          0.017508797347545624,
          0.01739930734038353,
          0.017291586846113205,
          0.017185594886541367,
          0.01708129420876503,
          0.016978658735752106,
          0.016877643764019012,
          0.01677822507917881,
          0.016680365428328514,
          0.016584033146500587,
          0.016489198431372643,
          0.01639583334326744,
          0.016303906217217445,
          0.016213390976190567,
          0.01612425409257412,
          0.01603647507727146,
          0.015950022265315056,
          0.015864871442317963,
          0.015780998393893242,
          0.015698378905653954,
          0.015616988763213158,
          0.015536800026893616,
          0.01545779500156641,
          0.0153799494728446,
          0.015303240157663822,
          0.015227644704282284,
          0.015153145417571068,
          0.015079721808433533,
          0.015007348731160164,
          0.014936011284589767,
          0.014865689910948277,
          0.014796365983784199,
          0.014728018082678318,
          0.014660632237792015,
          0.014594188891351223,
          0.014528671279549599,
          0.014464061707258224,
          0.014400347135961056,
          0.014337507076561451,
          0.01427552942186594,
          0.01421439740806818,
          0.014154094271361828,
          0.014094608835875988,
          0.014035927131772041,
          0.01397803146392107,
          0.013920907862484455,
          0.013864547945559025,
          0.013808933086693287,
          0.01375405490398407,
          0.01369989849627018,
          0.013646448962390423,
          0.013593698851764202,
          0.013541636057198048,
          0.01349024660885334,
          0.01343951839953661,
          0.013389443047344685,
          0.013340008445084095,
          0.013291203416883945,
          0.013243017718195915,
          0.013195442035794258,
          0.013148466125130653,
          0.01310208160430193,
          0.013056273572146893,
          0.013011039234697819,
          0.012966363690793514,
          0.012922241352498531,
          0.012878662906587124,
          0.012835619039833546,
          0.012793099507689476,
          0.012751101516187191,
          0.01270961295813322,
          0.012668623588979244,
          0.012628128752112389,
          0.012588120996952057,
          0.012548592872917652,
          0.012509532272815704,
          0.01247093640267849,
          0.012432798743247986,
          0.012395109981298447,
          0.012357864528894424,
          0.012321054004132748,
          0.012284673750400543,
          0.01224871538579464,
          0.012213175185024738,
          0.012178044766187668,
          0.012143317610025406,
          0.012108989991247654,
          0.012075054459273815,
          0.012041504494845867,
          0.012008336372673512,
          0.011975541710853577,
          0.011943118646740913
         ],
         "yaxis": "y"
        }
       ],
       "layout": {
        "legend": {
         "tracegroupgap": 0
        },
        "margin": {
         "t": 60
        },
        "template": {
         "data": {
          "bar": [
           {
            "error_x": {
             "color": "#2a3f5f"
            },
            "error_y": {
             "color": "#2a3f5f"
            },
            "marker": {
             "line": {
              "color": "#E5ECF6",
              "width": 0.5
             },
             "pattern": {
              "fillmode": "overlay",
              "size": 10,
              "solidity": 0.2
             }
            },
            "type": "bar"
           }
          ],
          "barpolar": [
           {
            "marker": {
             "line": {
              "color": "#E5ECF6",
              "width": 0.5
             },
             "pattern": {
              "fillmode": "overlay",
              "size": 10,
              "solidity": 0.2
             }
            },
            "type": "barpolar"
           }
          ],
          "carpet": [
           {
            "aaxis": {
             "endlinecolor": "#2a3f5f",
             "gridcolor": "white",
             "linecolor": "white",
             "minorgridcolor": "white",
             "startlinecolor": "#2a3f5f"
            },
            "baxis": {
             "endlinecolor": "#2a3f5f",
             "gridcolor": "white",
             "linecolor": "white",
             "minorgridcolor": "white",
             "startlinecolor": "#2a3f5f"
            },
            "type": "carpet"
           }
          ],
          "choropleth": [
           {
            "colorbar": {
             "outlinewidth": 0,
             "ticks": ""
            },
            "type": "choropleth"
           }
          ],
          "contour": [
           {
            "colorbar": {
             "outlinewidth": 0,
             "ticks": ""
            },
            "colorscale": [
             [
              0,
              "#0d0887"
             ],
             [
              0.1111111111111111,
              "#46039f"
             ],
             [
              0.2222222222222222,
              "#7201a8"
             ],
             [
              0.3333333333333333,
              "#9c179e"
             ],
             [
              0.4444444444444444,
              "#bd3786"
             ],
             [
              0.5555555555555556,
              "#d8576b"
             ],
             [
              0.6666666666666666,
              "#ed7953"
             ],
             [
              0.7777777777777778,
              "#fb9f3a"
             ],
             [
              0.8888888888888888,
              "#fdca26"
             ],
             [
              1,
              "#f0f921"
             ]
            ],
            "type": "contour"
           }
          ],
          "contourcarpet": [
           {
            "colorbar": {
             "outlinewidth": 0,
             "ticks": ""
            },
            "type": "contourcarpet"
           }
          ],
          "heatmap": [
           {
            "colorbar": {
             "outlinewidth": 0,
             "ticks": ""
            },
            "colorscale": [
             [
              0,
              "#0d0887"
             ],
             [
              0.1111111111111111,
              "#46039f"
             ],
             [
              0.2222222222222222,
              "#7201a8"
             ],
             [
              0.3333333333333333,
              "#9c179e"
             ],
             [
              0.4444444444444444,
              "#bd3786"
             ],
             [
              0.5555555555555556,
              "#d8576b"
             ],
             [
              0.6666666666666666,
              "#ed7953"
             ],
             [
              0.7777777777777778,
              "#fb9f3a"
             ],
             [
              0.8888888888888888,
              "#fdca26"
             ],
             [
              1,
              "#f0f921"
             ]
            ],
            "type": "heatmap"
           }
          ],
          "heatmapgl": [
           {
            "colorbar": {
             "outlinewidth": 0,
             "ticks": ""
            },
            "colorscale": [
             [
              0,
              "#0d0887"
             ],
             [
              0.1111111111111111,
              "#46039f"
             ],
             [
              0.2222222222222222,
              "#7201a8"
             ],
             [
              0.3333333333333333,
              "#9c179e"
             ],
             [
              0.4444444444444444,
              "#bd3786"
             ],
             [
              0.5555555555555556,
              "#d8576b"
             ],
             [
              0.6666666666666666,
              "#ed7953"
             ],
             [
              0.7777777777777778,
              "#fb9f3a"
             ],
             [
              0.8888888888888888,
              "#fdca26"
             ],
             [
              1,
              "#f0f921"
             ]
            ],
            "type": "heatmapgl"
           }
          ],
          "histogram": [
           {
            "marker": {
             "pattern": {
              "fillmode": "overlay",
              "size": 10,
              "solidity": 0.2
             }
            },
            "type": "histogram"
           }
          ],
          "histogram2d": [
           {
            "colorbar": {
             "outlinewidth": 0,
             "ticks": ""
            },
            "colorscale": [
             [
              0,
              "#0d0887"
             ],
             [
              0.1111111111111111,
              "#46039f"
             ],
             [
              0.2222222222222222,
              "#7201a8"
             ],
             [
              0.3333333333333333,
              "#9c179e"
             ],
             [
              0.4444444444444444,
              "#bd3786"
             ],
             [
              0.5555555555555556,
              "#d8576b"
             ],
             [
              0.6666666666666666,
              "#ed7953"
             ],
             [
              0.7777777777777778,
              "#fb9f3a"
             ],
             [
              0.8888888888888888,
              "#fdca26"
             ],
             [
              1,
              "#f0f921"
             ]
            ],
            "type": "histogram2d"
           }
          ],
          "histogram2dcontour": [
           {
            "colorbar": {
             "outlinewidth": 0,
             "ticks": ""
            },
            "colorscale": [
             [
              0,
              "#0d0887"
             ],
             [
              0.1111111111111111,
              "#46039f"
             ],
             [
              0.2222222222222222,
              "#7201a8"
             ],
             [
              0.3333333333333333,
              "#9c179e"
             ],
             [
              0.4444444444444444,
              "#bd3786"
             ],
             [
              0.5555555555555556,
              "#d8576b"
             ],
             [
              0.6666666666666666,
              "#ed7953"
             ],
             [
              0.7777777777777778,
              "#fb9f3a"
             ],
             [
              0.8888888888888888,
              "#fdca26"
             ],
             [
              1,
              "#f0f921"
             ]
            ],
            "type": "histogram2dcontour"
           }
          ],
          "mesh3d": [
           {
            "colorbar": {
             "outlinewidth": 0,
             "ticks": ""
            },
            "type": "mesh3d"
           }
          ],
          "parcoords": [
           {
            "line": {
             "colorbar": {
              "outlinewidth": 0,
              "ticks": ""
             }
            },
            "type": "parcoords"
           }
          ],
          "pie": [
           {
            "automargin": true,
            "type": "pie"
           }
          ],
          "scatter": [
           {
            "fillpattern": {
             "fillmode": "overlay",
             "size": 10,
             "solidity": 0.2
            },
            "type": "scatter"
           }
          ],
          "scatter3d": [
           {
            "line": {
             "colorbar": {
              "outlinewidth": 0,
              "ticks": ""
             }
            },
            "marker": {
             "colorbar": {
              "outlinewidth": 0,
              "ticks": ""
             }
            },
            "type": "scatter3d"
           }
          ],
          "scattercarpet": [
           {
            "marker": {
             "colorbar": {
              "outlinewidth": 0,
              "ticks": ""
             }
            },
            "type": "scattercarpet"
           }
          ],
          "scattergeo": [
           {
            "marker": {
             "colorbar": {
              "outlinewidth": 0,
              "ticks": ""
             }
            },
            "type": "scattergeo"
           }
          ],
          "scattergl": [
           {
            "marker": {
             "colorbar": {
              "outlinewidth": 0,
              "ticks": ""
             }
            },
            "type": "scattergl"
           }
          ],
          "scattermapbox": [
           {
            "marker": {
             "colorbar": {
              "outlinewidth": 0,
              "ticks": ""
             }
            },
            "type": "scattermapbox"
           }
          ],
          "scatterpolar": [
           {
            "marker": {
             "colorbar": {
              "outlinewidth": 0,
              "ticks": ""
             }
            },
            "type": "scatterpolar"
           }
          ],
          "scatterpolargl": [
           {
            "marker": {
             "colorbar": {
              "outlinewidth": 0,
              "ticks": ""
             }
            },
            "type": "scatterpolargl"
           }
          ],
          "scatterternary": [
           {
            "marker": {
             "colorbar": {
              "outlinewidth": 0,
              "ticks": ""
             }
            },
            "type": "scatterternary"
           }
          ],
          "surface": [
           {
            "colorbar": {
             "outlinewidth": 0,
             "ticks": ""
            },
            "colorscale": [
             [
              0,
              "#0d0887"
             ],
             [
              0.1111111111111111,
              "#46039f"
             ],
             [
              0.2222222222222222,
              "#7201a8"
             ],
             [
              0.3333333333333333,
              "#9c179e"
             ],
             [
              0.4444444444444444,
              "#bd3786"
             ],
             [
              0.5555555555555556,
              "#d8576b"
             ],
             [
              0.6666666666666666,
              "#ed7953"
             ],
             [
              0.7777777777777778,
              "#fb9f3a"
             ],
             [
              0.8888888888888888,
              "#fdca26"
             ],
             [
              1,
              "#f0f921"
             ]
            ],
            "type": "surface"
           }
          ],
          "table": [
           {
            "cells": {
             "fill": {
              "color": "#EBF0F8"
             },
             "line": {
              "color": "white"
             }
            },
            "header": {
             "fill": {
              "color": "#C8D4E3"
             },
             "line": {
              "color": "white"
             }
            },
            "type": "table"
           }
          ]
         },
         "layout": {
          "annotationdefaults": {
           "arrowcolor": "#2a3f5f",
           "arrowhead": 0,
           "arrowwidth": 1
          },
          "autotypenumbers": "strict",
          "coloraxis": {
           "colorbar": {
            "outlinewidth": 0,
            "ticks": ""
           }
          },
          "colorscale": {
           "diverging": [
            [
             0,
             "#8e0152"
            ],
            [
             0.1,
             "#c51b7d"
            ],
            [
             0.2,
             "#de77ae"
            ],
            [
             0.3,
             "#f1b6da"
            ],
            [
             0.4,
             "#fde0ef"
            ],
            [
             0.5,
             "#f7f7f7"
            ],
            [
             0.6,
             "#e6f5d0"
            ],
            [
             0.7,
             "#b8e186"
            ],
            [
             0.8,
             "#7fbc41"
            ],
            [
             0.9,
             "#4d9221"
            ],
            [
             1,
             "#276419"
            ]
           ],
           "sequential": [
            [
             0,
             "#0d0887"
            ],
            [
             0.1111111111111111,
             "#46039f"
            ],
            [
             0.2222222222222222,
             "#7201a8"
            ],
            [
             0.3333333333333333,
             "#9c179e"
            ],
            [
             0.4444444444444444,
             "#bd3786"
            ],
            [
             0.5555555555555556,
             "#d8576b"
            ],
            [
             0.6666666666666666,
             "#ed7953"
            ],
            [
             0.7777777777777778,
             "#fb9f3a"
            ],
            [
             0.8888888888888888,
             "#fdca26"
            ],
            [
             1,
             "#f0f921"
            ]
           ],
           "sequentialminus": [
            [
             0,
             "#0d0887"
            ],
            [
             0.1111111111111111,
             "#46039f"
            ],
            [
             0.2222222222222222,
             "#7201a8"
            ],
            [
             0.3333333333333333,
             "#9c179e"
            ],
            [
             0.4444444444444444,
             "#bd3786"
            ],
            [
             0.5555555555555556,
             "#d8576b"
            ],
            [
             0.6666666666666666,
             "#ed7953"
            ],
            [
             0.7777777777777778,
             "#fb9f3a"
            ],
            [
             0.8888888888888888,
             "#fdca26"
            ],
            [
             1,
             "#f0f921"
            ]
           ]
          },
          "colorway": [
           "#636efa",
           "#EF553B",
           "#00cc96",
           "#ab63fa",
           "#FFA15A",
           "#19d3f3",
           "#FF6692",
           "#B6E880",
           "#FF97FF",
           "#FECB52"
          ],
          "font": {
           "color": "#2a3f5f"
          },
          "geo": {
           "bgcolor": "white",
           "lakecolor": "white",
           "landcolor": "#E5ECF6",
           "showlakes": true,
           "showland": true,
           "subunitcolor": "white"
          },
          "hoverlabel": {
           "align": "left"
          },
          "hovermode": "closest",
          "mapbox": {
           "style": "light"
          },
          "paper_bgcolor": "white",
          "plot_bgcolor": "#E5ECF6",
          "polar": {
           "angularaxis": {
            "gridcolor": "white",
            "linecolor": "white",
            "ticks": ""
           },
           "bgcolor": "#E5ECF6",
           "radialaxis": {
            "gridcolor": "white",
            "linecolor": "white",
            "ticks": ""
           }
          },
          "scene": {
           "xaxis": {
            "backgroundcolor": "#E5ECF6",
            "gridcolor": "white",
            "gridwidth": 2,
            "linecolor": "white",
            "showbackground": true,
            "ticks": "",
            "zerolinecolor": "white"
           },
           "yaxis": {
            "backgroundcolor": "#E5ECF6",
            "gridcolor": "white",
            "gridwidth": 2,
            "linecolor": "white",
            "showbackground": true,
            "ticks": "",
            "zerolinecolor": "white"
           },
           "zaxis": {
            "backgroundcolor": "#E5ECF6",
            "gridcolor": "white",
            "gridwidth": 2,
            "linecolor": "white",
            "showbackground": true,
            "ticks": "",
            "zerolinecolor": "white"
           }
          },
          "shapedefaults": {
           "line": {
            "color": "#2a3f5f"
           }
          },
          "ternary": {
           "aaxis": {
            "gridcolor": "white",
            "linecolor": "white",
            "ticks": ""
           },
           "baxis": {
            "gridcolor": "white",
            "linecolor": "white",
            "ticks": ""
           },
           "bgcolor": "#E5ECF6",
           "caxis": {
            "gridcolor": "white",
            "linecolor": "white",
            "ticks": ""
           }
          },
          "title": {
           "x": 0.05
          },
          "xaxis": {
           "automargin": true,
           "gridcolor": "white",
           "linecolor": "white",
           "ticks": "",
           "title": {
            "standoff": 15
           },
           "zerolinecolor": "white",
           "zerolinewidth": 2
          },
          "yaxis": {
           "automargin": true,
           "gridcolor": "white",
           "linecolor": "white",
           "ticks": "",
           "title": {
            "standoff": 15
           },
           "zerolinecolor": "white",
           "zerolinewidth": 2
          }
         }
        },
        "xaxis": {
         "anchor": "y",
         "domain": [
          0,
          1
         ],
         "title": {
          "text": "Iteration"
         }
        },
        "yaxis": {
         "anchor": "x",
         "domain": [
          0,
          1
         ],
         "title": {
          "text": "Loss"
         }
        }
       }
      }
     },
     "metadata": {},
     "output_type": "display_data"
    }
   ],
   "source": [
    "# Initialize model\n",
    "model = LineGrid(n=n, d=2)  # d=2 as we are regressing both sin and cos\n",
    "\n",
    "# Initialize the built-in Mean-Squared Error loss function\n",
    "mse = nn.MSELoss()\n",
    "\n",
    "# Create a callback that saves loss to a dataframe\n",
    "loss_data = pd.DataFrame(columns=['Iteration', 'Loss'])\n",
    "def record_loss(iteration, model):\n",
    "    loss_data.loc[len(loss_data)] = [iteration, mse(model(x_samples), y_samples).item()]\n",
    "            \n",
    "# Run the training loop\n",
    "train_gd(model, dataset, loss_fn=mse, callback=record_loss)\n",
    "px.line(loss_data, x='Iteration', y='Loss')"
   ]
  },
  {
   "cell_type": "markdown",
   "metadata": {},
   "source": [
    "Note that gradient descent converges rather slow. You could try experimenting with the learning rate to speed this up. \n",
    "\n",
    "After the training has converged, we can evaluate the resulting functions and plot the result against the training data, and we see that we get decent approximations of sin and cos, even with noisy training data:"
   ]
  },
  {
   "cell_type": "code",
   "execution_count": 11,
   "metadata": {},
   "outputs": [
    {
     "data": {
      "application/vnd.plotly.v1+json": {
       "config": {
        "plotlyServerURL": "https://plot.ly"
       },
       "data": [
        {
         "mode": "markers",
         "name": "sin",
         "type": "scatter",
         "x": [
          0.8706700801849365,
          19.505260467529297,
          18.356420516967773,
          4.033321380615234,
          8.167868614196777,
          16.952226638793945,
          14.265283584594727,
          18.35462760925293,
          0.9501612186431885,
          4.7945404052734375,
          16.218303680419922,
          1.7557120323181152,
          13.909358024597168,
          13.019155502319336,
          14.547248840332031,
          4.265569686889648,
          12.741344451904297,
          11.739130020141602,
          7.732758522033691,
          9.179447174072266,
          17.142704010009766,
          2.8166627883911133,
          12.315349578857422,
          13.939817428588867,
          17.901636123657227,
          8.995450973510742,
          13.742582321166992,
          18.54581642150879,
          9.2198486328125,
          4.119013786315918,
          18.5710506439209,
          13.630552291870117,
          13.664911270141602,
          9.63705825805664,
          5.19680118560791,
          5.894672870635986,
          14.595226287841797,
          9.201513290405273,
          14.00286865234375,
          16.129051208496094,
          11.98891830444336,
          14.011127471923828,
          6.856966972351074,
          19.474315643310547,
          5.272924900054932,
          16.490880966186523,
          15.766365051269531,
          0.19446015357971191,
          16.217456817626953,
          13.739876747131348,
          4.440340995788574,
          2.7840471267700195,
          18.823516845703125,
          19.40801239013672,
          10.719107627868652,
          12.4920654296875,
          8.00503158569336,
          15.971875190734863,
          1.9978106021881104,
          13.338347434997559,
          14.73994255065918,
          6.952047348022461,
          11.0502347946167,
          17.836214065551758,
          16.765438079833984,
          16.52489471435547,
          7.755671501159668,
          13.032365798950195,
          4.969737529754639,
          15.843984603881836,
          2.222045660018921,
          7.557450294494629,
          17.968994140625,
          5.5163421630859375,
          13.088773727416992,
          1.5197861194610596,
          12.924571990966797,
          6.860156059265137,
          10.046098709106445,
          3.5085415840148926,
          10.155848503112793,
          16.55616569519043,
          6.21829891204834,
          2.5292599201202393,
          7.922392845153809,
          4.862579345703125,
          10.431365966796875,
          10.405143737792969,
          17.339740753173828,
          7.6178669929504395,
          14.772737503051758,
          12.398109436035156,
          1.3278424739837646,
          1.546316146850586,
          3.1168603897094727,
          9.566384315490723,
          7.067077159881592,
          9.32470417022705,
          4.897016525268555,
          8.01404094696045,
          10.958441734313965,
          7.495845794677734,
          14.747490882873535,
          12.279853820800781,
          14.89086627960205,
          12.747937202453613,
          0.9039580821990967,
          8.042444229125977,
          17.166149139404297,
          1.9534361362457275,
          18.219106674194336,
          12.144818305969238,
          10.627808570861816,
          11.821647644042969,
          13.757287979125977,
          10.26710319519043,
          16.48164939880371,
          7.8875579833984375,
          2.0464956760406494,
          12.781017303466797,
          0.6201171875,
          11.74588394165039,
          19.69849395751953,
          9.176122665405273,
          10.272714614868164,
          19.486164093017578,
          16.080934524536133,
          18.705026626586914,
          8.633808135986328,
          14.817505836486816,
          16.85042953491211,
          14.840888023376465,
          18.181299209594727,
          14.395742416381836,
          12.3004732131958,
          3.2974636554718018,
          9.054611206054688,
          5.680614471435547,
          12.900323867797852,
          8.073141098022461,
          2.576014995574951,
          16.50320816040039,
          13.750431060791016,
          11.824254989624023,
          2.023557424545288,
          10.971622467041016,
          9.049086570739746,
          19.755399703979492,
          0.6660556793212891,
          4.864045143127441,
          16.645183563232422,
          12.975028991699219,
          19.712133407592773,
          6.870936393737793,
          4.685111999511719,
          4.63071346282959,
          1.6398513317108154,
          17.508930206298828,
          5.427811145782471,
          11.515737533569336,
          19.251174926757812,
          3.7141335010528564,
          3.152904510498047,
          18.461929321289062,
          5.672372817993164,
          0.5944252014160156,
          3.7012505531311035,
          2.0452725887298584,
          12.553902626037598,
          2.13847279548645,
          18.335939407348633,
          14.280563354492188,
          2.9623425006866455,
          0.8481919765472412,
          12.810680389404297,
          5.232100486755371,
          9.570499420166016,
          5.89909553527832,
          14.42050838470459,
          15.980395317077637,
          12.49597454071045,
          13.15925121307373,
          10.730700492858887,
          10.203899383544922,
          0.13271212577819824,
          8.325170516967773,
          11.486334800720215,
          6.452279090881348,
          15.630983352661133,
          11.478347778320312,
          4.937282562255859,
          7.059543132781982,
          9.456562995910645,
          8.46058464050293,
          4.3394622802734375,
          9.723533630371094,
          7.724700927734375,
          5.161586761474609,
          12.378862380981445,
          13.042460441589355,
          16.738201141357422,
          15.921443939208984,
          18.636295318603516,
          19.18765640258789,
          8.981191635131836,
          11.107139587402344,
          14.619463920593262,
          10.418630599975586,
          17.970550537109375,
          1.4018762111663818,
          5.446247100830078,
          4.844164848327637,
          4.318559169769287,
          15.692505836486816,
          5.652573108673096,
          17.422386169433594,
          3.9363086223602295,
          9.019655227661133,
          2.817784547805786,
          11.81458568572998,
          13.412006378173828,
          4.585974216461182,
          1.772754192352295,
          15.13450813293457,
          7.396487236022949,
          1.2560606002807617,
          16.750919342041016,
          3.0613434314727783,
          13.050738334655762,
          7.325284481048584,
          17.176048278808594,
          2.7332305908203125,
          0.21636247634887695,
          2.093580961227417,
          5.947113037109375,
          1.5621161460876465,
          11.574606895446777,
          2.563697099685669,
          3.0107641220092773,
          6.218435764312744,
          15.460027694702148,
          14.369686126708984,
          1.3774025440216064,
          3.2363438606262207,
          5.034339427947998,
          17.1292667388916,
          7.068631649017334,
          10.465782165527344,
          9.129404067993164,
          11.626428604125977
         ],
         "y": [
          0.37284982204437256,
          -0.1833905428647995,
          -0.4999874532222748,
          0.9078505635261536,
          0.35895979404449463,
          -0.8683040142059326,
          -0.9750630259513855,
          -0.6647108197212219,
          0.27854588627815247,
          0.8930873870849609,
          -0.9576307535171509,
          0.6750447750091553,
          -0.987704336643219,
          -0.5697536468505859,
          -1.0615125894546509,
          0.9131680727005005,
          -0.6681515574455261,
          -0.5213132500648499,
          0.8091976642608643,
          0.19561117887496948,
          -0.8291995525360107,
          0.8240143656730652,
          -0.7910131216049194,
          -0.9471838474273682,
          -0.6377228498458862,
          0.3982026278972626,
          -0.95880126953125,
          -0.36944764852523804,
          0.24980461597442627,
          0.8990035057067871,
          -0.4144399166107178,
          -1.049169898033142,
          -0.9656327962875366,
          0.35728955268859863,
          1.0036603212356567,
          1.0078282356262207,
          -0.9491962194442749,
          0.3989531099796295,
          -1.0622007846832275,
          -0.9921466112136841,
          -0.7338995337486267,
          -1.1809782981872559,
          0.8118809461593628,
          -0.06773192435503006,
          1.079237699508667,
          -0.8553168177604675,
          -1.0548282861709595,
          0.043156079947948456,
          -1.1307189464569092,
          -1.0582611560821533,
          0.9708207249641418,
          0.6604235768318176,
          -0.4091961085796356,
          -0.3005688190460205,
          -0.2478148341178894,
          -0.8280450105667114,
          0.668497622013092,
          -0.9073410034179688,
          0.6846522092819214,
          -0.883750855922699,
          -1.0071396827697754,
          0.6491605639457703,
          -0.37228089570999146,
          -0.6974233984947205,
          -0.9445570707321167,
          -1.0163087844848633,
          0.7691735029220581,
          -0.9323768019676208,
          0.948991060256958,
          -0.8522494435310364,
          0.7914612293243408,
          0.7263444662094116,
          -0.5449622273445129,
          0.8141793012619019,
          -0.917374849319458,
          0.3056972622871399,
          -0.5900509357452393,
          0.9466159343719482,
          -0.039791952818632126,
          1.020695447921753,
          -0.06029201298952103,
          -0.6607159972190857,
          1.0058887004852295,
          0.8351860046386719,
          0.6524985432624817,
          1.1308085918426514,
          -0.08626090735197067,
          -0.027028299868106842,
          -0.9027041792869568,
          0.8653106093406677,
          -0.906539797782898,
          -0.6951389312744141,
          0.3184581995010376,
          0.502029299736023,
          0.6858977675437927,
          0.3448965847492218,
          0.6690543293952942,
          0.16029977798461914,
          1.0291916131973267,
          0.44725877046585083,
          -0.45566174387931824,
          0.7335702776908875,
          -0.9021605253219604,
          -0.7022379636764526,
          -1.0444073677062988,
          -0.7979834079742432,
          0.24615299701690674,
          0.6411683559417725,
          -0.8379458785057068,
          0.667389452457428,
          -0.5909621119499207,
          -0.662053644657135,
          -0.1908944994211197,
          -0.36587661504745483,
          -0.90964674949646,
          -0.05098839849233627,
          -0.8934466242790222,
          0.47204798460006714,
          0.6310696601867676,
          -0.6892786622047424,
          0.19662457704544067,
          -0.5054499506950378,
          0.00014472007751464844,
          0.3272514343261719,
          -0.0879639983177185,
          -0.18692916631698608,
          -0.8185030817985535,
          -0.37842804193496704,
          0.40071481466293335,
          -0.9878517389297485,
          -0.8995316624641418,
          -0.9228852987289429,
          -0.4874951243400574,
          -1.027040719985962,
          -0.715400218963623,
          0.8504909873008728,
          0.30908507108688354,
          1.0067875385284424,
          -0.9906548261642456,
          0.5443862080574036,
          0.6237024068832397,
          -0.9759870767593384,
          -0.869469165802002,
          -0.39567995071411133,
          0.4961506426334381,
          -0.4227292239665985,
          0.3975672721862793,
          0.11975748091936111,
          0.11960610002279282,
          1.007466197013855,
          -0.8063352108001709,
          -0.657461404800415,
          0.012740403413772583,
          0.8079010844230652,
          0.9680102467536926,
          1.1765385866165161,
          0.5011834502220154,
          -0.8155855536460876,
          0.988007664680481,
          -0.38056841492652893,
          -0.3399794101715088,
          0.8597339987754822,
          0.8726641535758972,
          -0.4203600585460663,
          0.9249056577682495,
          0.16166599094867706,
          0.9437911510467529,
          0.7565009593963623,
          -0.7369093298912048,
          0.5058765411376953,
          -0.5465285778045654,
          -0.8807466626167297,
          0.8040907979011536,
          0.12936268746852875,
          -0.6215959191322327,
          0.9070178866386414,
          0.04244496673345566,
          1.015425682067871,
          -0.9508675336837769,
          -0.9840165972709656,
          -0.7855309247970581,
          -0.8308167457580566,
          -0.09668932855129242,
          -0.02225884422659874,
          0.10267901420593262,
          0.487141489982605,
          -0.5025299191474915,
          0.8633466362953186,
          -1.0713387727737427,
          -0.4944854974746704,
          1.0244895219802856,
          0.7549192905426025,
          0.14570267498493195,
          0.462673157453537,
          1.051018476486206,
          0.1876024603843689,
          0.7823492288589478,
          0.8353458642959595,
          -0.7225369215011597,
          -0.9459390044212341,
          -0.7552152276039124,
          -1.162446141242981,
          -0.4406678378582001,
          -0.3249674439430237,
          0.4228934645652771,
          -0.35994574427604675,
          -1.0558655261993408,
          -0.23885878920555115,
          -0.5200505256652832,
          0.43249478936195374,
          1.0945013761520386,
          0.9800878763198853,
          0.9367473125457764,
          -0.9241452217102051,
          1.0092504024505615,
          -0.8935750722885132,
          1.016504168510437,
          0.3101080060005188,
          0.7419825196266174,
          -0.5814566016197205,
          -0.6945109963417053,
          1.027773141860962,
          0.6213598251342773,
          -0.9974708557128906,
          0.47073817253112793,
          0.26257646083831787,
          -0.8254333734512329,
          0.784508466720581,
          -0.8496915698051453,
          0.6460960507392883,
          -0.7135798931121826,
          0.7015033960342407,
          0.16750332713127136,
          0.5431170463562012,
          0.9903671145439148,
          0.3736013174057007,
          -0.40031999349594116,
          0.7387269735336304,
          0.860970139503479,
          0.9039185643196106,
          -1.0614352226257324,
          -0.8720224499702454,
          0.435604989528656,
          0.8011665344238281,
          0.973895788192749,
          -0.8615331649780273,
          0.6413730382919312,
          -0.1841071993112564,
          0.22766844928264618,
          -0.5120395421981812
         ]
        },
        {
         "mode": "markers",
         "name": "cos",
         "type": "scatter",
         "x": [
          0.8706700801849365,
          19.505260467529297,
          18.356420516967773,
          4.033321380615234,
          8.167868614196777,
          16.952226638793945,
          14.265283584594727,
          18.35462760925293,
          0.9501612186431885,
          4.7945404052734375,
          16.218303680419922,
          1.7557120323181152,
          13.909358024597168,
          13.019155502319336,
          14.547248840332031,
          4.265569686889648,
          12.741344451904297,
          11.739130020141602,
          7.732758522033691,
          9.179447174072266,
          17.142704010009766,
          2.8166627883911133,
          12.315349578857422,
          13.939817428588867,
          17.901636123657227,
          8.995450973510742,
          13.742582321166992,
          18.54581642150879,
          9.2198486328125,
          4.119013786315918,
          18.5710506439209,
          13.630552291870117,
          13.664911270141602,
          9.63705825805664,
          5.19680118560791,
          5.894672870635986,
          14.595226287841797,
          9.201513290405273,
          14.00286865234375,
          16.129051208496094,
          11.98891830444336,
          14.011127471923828,
          6.856966972351074,
          19.474315643310547,
          5.272924900054932,
          16.490880966186523,
          15.766365051269531,
          0.19446015357971191,
          16.217456817626953,
          13.739876747131348,
          4.440340995788574,
          2.7840471267700195,
          18.823516845703125,
          19.40801239013672,
          10.719107627868652,
          12.4920654296875,
          8.00503158569336,
          15.971875190734863,
          1.9978106021881104,
          13.338347434997559,
          14.73994255065918,
          6.952047348022461,
          11.0502347946167,
          17.836214065551758,
          16.765438079833984,
          16.52489471435547,
          7.755671501159668,
          13.032365798950195,
          4.969737529754639,
          15.843984603881836,
          2.222045660018921,
          7.557450294494629,
          17.968994140625,
          5.5163421630859375,
          13.088773727416992,
          1.5197861194610596,
          12.924571990966797,
          6.860156059265137,
          10.046098709106445,
          3.5085415840148926,
          10.155848503112793,
          16.55616569519043,
          6.21829891204834,
          2.5292599201202393,
          7.922392845153809,
          4.862579345703125,
          10.431365966796875,
          10.405143737792969,
          17.339740753173828,
          7.6178669929504395,
          14.772737503051758,
          12.398109436035156,
          1.3278424739837646,
          1.546316146850586,
          3.1168603897094727,
          9.566384315490723,
          7.067077159881592,
          9.32470417022705,
          4.897016525268555,
          8.01404094696045,
          10.958441734313965,
          7.495845794677734,
          14.747490882873535,
          12.279853820800781,
          14.89086627960205,
          12.747937202453613,
          0.9039580821990967,
          8.042444229125977,
          17.166149139404297,
          1.9534361362457275,
          18.219106674194336,
          12.144818305969238,
          10.627808570861816,
          11.821647644042969,
          13.757287979125977,
          10.26710319519043,
          16.48164939880371,
          7.8875579833984375,
          2.0464956760406494,
          12.781017303466797,
          0.6201171875,
          11.74588394165039,
          19.69849395751953,
          9.176122665405273,
          10.272714614868164,
          19.486164093017578,
          16.080934524536133,
          18.705026626586914,
          8.633808135986328,
          14.817505836486816,
          16.85042953491211,
          14.840888023376465,
          18.181299209594727,
          14.395742416381836,
          12.3004732131958,
          3.2974636554718018,
          9.054611206054688,
          5.680614471435547,
          12.900323867797852,
          8.073141098022461,
          2.576014995574951,
          16.50320816040039,
          13.750431060791016,
          11.824254989624023,
          2.023557424545288,
          10.971622467041016,
          9.049086570739746,
          19.755399703979492,
          0.6660556793212891,
          4.864045143127441,
          16.645183563232422,
          12.975028991699219,
          19.712133407592773,
          6.870936393737793,
          4.685111999511719,
          4.63071346282959,
          1.6398513317108154,
          17.508930206298828,
          5.427811145782471,
          11.515737533569336,
          19.251174926757812,
          3.7141335010528564,
          3.152904510498047,
          18.461929321289062,
          5.672372817993164,
          0.5944252014160156,
          3.7012505531311035,
          2.0452725887298584,
          12.553902626037598,
          2.13847279548645,
          18.335939407348633,
          14.280563354492188,
          2.9623425006866455,
          0.8481919765472412,
          12.810680389404297,
          5.232100486755371,
          9.570499420166016,
          5.89909553527832,
          14.42050838470459,
          15.980395317077637,
          12.49597454071045,
          13.15925121307373,
          10.730700492858887,
          10.203899383544922,
          0.13271212577819824,
          8.325170516967773,
          11.486334800720215,
          6.452279090881348,
          15.630983352661133,
          11.478347778320312,
          4.937282562255859,
          7.059543132781982,
          9.456562995910645,
          8.46058464050293,
          4.3394622802734375,
          9.723533630371094,
          7.724700927734375,
          5.161586761474609,
          12.378862380981445,
          13.042460441589355,
          16.738201141357422,
          15.921443939208984,
          18.636295318603516,
          19.18765640258789,
          8.981191635131836,
          11.107139587402344,
          14.619463920593262,
          10.418630599975586,
          17.970550537109375,
          1.4018762111663818,
          5.446247100830078,
          4.844164848327637,
          4.318559169769287,
          15.692505836486816,
          5.652573108673096,
          17.422386169433594,
          3.9363086223602295,
          9.019655227661133,
          2.817784547805786,
          11.81458568572998,
          13.412006378173828,
          4.585974216461182,
          1.772754192352295,
          15.13450813293457,
          7.396487236022949,
          1.2560606002807617,
          16.750919342041016,
          3.0613434314727783,
          13.050738334655762,
          7.325284481048584,
          17.176048278808594,
          2.7332305908203125,
          0.21636247634887695,
          2.093580961227417,
          5.947113037109375,
          1.5621161460876465,
          11.574606895446777,
          2.563697099685669,
          3.0107641220092773,
          6.218435764312744,
          15.460027694702148,
          14.369686126708984,
          1.3774025440216064,
          3.2363438606262207,
          5.034339427947998,
          17.1292667388916,
          7.068631649017334,
          10.465782165527344,
          9.129404067993164,
          11.626428604125977
         ],
         "y": [
          0.9949617385864258,
          0.9377382397651672,
          0.9851349592208862,
          0.2949327826499939,
          -0.7391734719276428,
          0.608069896697998,
          -0.19629213213920593,
          0.8227494359016418,
          0.9907922744750977,
          -0.18573865294456482,
          0.16300471127033234,
          0.8757149577140808,
          -0.38779208064079285,
          -0.6289278268814087,
          -0.06025593727827072,
          0.18027296662330627,
          -0.7472246289253235,
          -0.7783936262130737,
          -0.8966537714004517,
          -1.0273277759552002,
          0.6623234748840332,
          0.5036389231681824,
          -0.7646206021308899,
          -0.4220733642578125,
          0.7817464470863342,
          -0.9249202609062195,
          -0.3818523585796356,
          0.7715861797332764,
          -0.8649037480354309,
          0.21483299136161804,
          0.8332515954971313,
          -0.30522215366363525,
          -0.46704190969467163,
          -0.949828565120697,
          0.0026501119136810303,
          -0.3507538139820099,
          -0.08927510678768158,
          -1.0990163087844849,
          -0.2350112497806549,
          0.5048708319664001,
          -0.7504626512527466,
          -0.2647216022014618,
          -0.6833943128585815,
          1.0328025817871094,
          -0.12216232717037201,
          0.5764297842979431,
          0.22998109459877014,
          0.9306411147117615,
          0.3700852394104004,
          -0.19993965327739716,
          0.1162748783826828,
          0.6320294737815857,
          1.0622303485870361,
          0.8659459948539734,
          -1.0862334966659546,
          -0.6514126658439636,
          -0.8414182662963867,
          0.34352627396583557,
          0.8628873825073242,
          -0.6369537711143494,
          0.033173367381095886,
          -0.5414412021636963,
          -0.9277613759040833,
          1.1498527526855469,
          0.38690561056137085,
          0.47916504740715027,
          -0.6973371505737305,
          -0.5551595091819763,
          0.11175782233476639,
          0.37835630774497986,
          0.7942227721214294,
          -0.6261668801307678,
          1.1043599843978882,
          -0.21143318712711334,
          -0.7606435418128967,
          0.87601637840271,
          -0.6465893983840942,
          -0.4803628921508789,
          -1.034075379371643,
          0.5144704580307007,
          -1.0591752529144287,
          0.48398125171661377,
          -0.47606515884399414,
          0.7137117385864258,
          -0.7131908535957336,
          -0.09898175299167633,
          -1.1573481559753418,
          -0.8779010772705078,
          0.6605784893035889,
          -0.7033470869064331,
          -0.10158278048038483,
          -0.5846397280693054,
          0.7763146162033081,
          0.8960703015327454,
          0.6330145001411438,
          -1.1212283372879028,
          -0.698898196220398,
          -0.8478149175643921,
          0.14346979558467865,
          -0.8166077733039856,
          -1.0641694068908691,
          -0.7451068162918091,
          -0.17785419523715973,
          -0.7452942132949829,
          0.04147747904062271,
          -0.7111537456512451,
          0.878869354724884,
          -0.7382412552833557,
          0.5319960713386536,
          0.9117703437805176,
          0.7503721714019775,
          -0.8073378801345825,
          -1.0915652513504028,
          -0.8618531823158264,
          -0.6477642059326172,
          -0.9574721455574036,
          0.3534976541996002,
          -0.8926053047180176,
          0.7814385890960693,
          -0.6238385438919067,
          0.9615106582641602,
          -0.6810608506202698,
          1.0722215175628662,
          -0.8232504725456238,
          -1.0090407133102417,
          0.9129142165184021,
          0.34546807408332825,
          0.8343185782432556,
          -0.8328847289085388,
          -0.1760375052690506,
          0.550784170627594,
          -0.0645068883895874,
          0.886789083480835,
          -0.3125044107437134,
          -0.9583379626274109,
          0.5604313015937805,
          -0.9026203751564026,
          -0.2568426728248596,
          -0.4853052496910095,
          -0.7879747748374939,
          0.7594790458679199,
          0.41422325372695923,
          -0.4186263978481293,
          -1.128955364227295,
          0.8395491242408752,
          -1.1309797763824463,
          -0.7531867027282715,
          1.061209797859192,
          0.9980210065841675,
          0.07964290678501129,
          0.5967540740966797,
          -0.6831371784210205,
          0.9618370532989502,
          -0.6130122542381287,
          0.035689108073711395,
          0.08529897034168243,
          0.8757644295692444,
          0.7366124391555786,
          -0.12046587467193604,
          -0.8239654898643494,
          0.8277212977409363,
          0.503169596195221,
          0.48034870624542236,
          0.9143406748771667,
          -0.40685075521469116,
          0.9662442207336426,
          0.2883937358856201,
          0.7676919102668762,
          -0.5429754853248596,
          0.7165720462799072,
          0.8704141974449158,
          -0.2197255641222,
          0.5330305099487305,
          1.0671162605285645,
          -0.558717668056488,
          -0.06202740594744682,
          -1.1144287586212158,
          -0.31991684436798096,
          -0.23598481714725494,
          0.27901020646095276,
          -0.5588458180427551,
          -0.5531148314476013,
          -0.8696208000183105,
          -0.9799632430076599,
          1.0746102333068848,
          -0.7514601945877075,
          -0.9316998720169067,
          -0.5683201551437378,
          0.3138429522514343,
          -0.792972981929779,
          -0.10748910158872604,
          -0.4223017990589142,
          -1.0018388032913208,
          -0.9828146696090698,
          0.23127995431423187,
          -0.9802992343902588,
          -0.7800894379615784,
          -0.0008251816034317017,
          -0.7899189591407776,
          -0.7199769020080566,
          0.39143460988998413,
          0.1640443205833435,
          0.9347704648971558,
          0.9283095598220825,
          -0.913119912147522,
          -1.0127676725387573,
          0.050320811569690704,
          -0.953355610370636,
          0.8223729133605957,
          0.603523313999176,
          -0.1987738460302353,
          0.05808224156498909,
          0.2821291387081146,
          0.12942089140415192,
          -0.22078530490398407,
          0.5879904627799988,
          0.21064043045043945,
          -0.96173095703125,
          0.7558126449584961,
          -0.8089384436607361,
          -0.5022026896476746,
          0.32047373056411743,
          0.877653181552887,
          0.15066322684288025,
          -0.6925349235534668,
          0.8687028288841248,
          0.4154484272003174,
          0.6953546404838562,
          -0.5627128481864929,
          -0.6795805096626282,
          0.7195934653282166,
          0.7245176434516907,
          1.194567322731018,
          0.7042028307914734,
          -0.3151598572731018,
          0.7594751119613647,
          -0.8000448346138,
          0.6611772179603577,
          0.7610046863555908,
          -0.5876152515411377,
          0.07004571706056595,
          -0.11656364053487778,
          0.9831762909889221,
          0.6115236878395081,
          -0.128101646900177,
          0.7287085652351379,
          -0.6047363877296448,
          -0.8782439231872559,
          -0.7635462284088135,
          -0.901557207107544
         ]
        },
        {
         "mode": "lines",
         "name": "predicted sin",
         "type": "scatter",
         "x": [
          0.13271212577819824,
          0.19446015357971191,
          0.21636247634887695,
          0.5944252014160156,
          0.6201171875,
          0.6660556793212891,
          0.8481919765472412,
          0.8706700801849365,
          0.9039580821990967,
          0.9501612186431885,
          1.2560606002807617,
          1.3278424739837646,
          1.3774025440216064,
          1.4018762111663818,
          1.5197861194610596,
          1.546316146850586,
          1.5621161460876465,
          1.6398513317108154,
          1.7557120323181152,
          1.772754192352295,
          1.9534361362457275,
          1.9978106021881104,
          2.023557424545288,
          2.0452725887298584,
          2.0464956760406494,
          2.093580961227417,
          2.13847279548645,
          2.222045660018921,
          2.5292599201202393,
          2.563697099685669,
          2.576014995574951,
          2.7332305908203125,
          2.7840471267700195,
          2.8166627883911133,
          2.817784547805786,
          2.9623425006866455,
          3.0107641220092773,
          3.0613434314727783,
          3.1168603897094727,
          3.152904510498047,
          3.2363438606262207,
          3.2974636554718018,
          3.5085415840148926,
          3.7012505531311035,
          3.7141335010528564,
          3.9363086223602295,
          4.033321380615234,
          4.119013786315918,
          4.265569686889648,
          4.318559169769287,
          4.3394622802734375,
          4.440340995788574,
          4.585974216461182,
          4.63071346282959,
          4.685111999511719,
          4.7945404052734375,
          4.844164848327637,
          4.862579345703125,
          4.864045143127441,
          4.897016525268555,
          4.937282562255859,
          4.969737529754639,
          5.034339427947998,
          5.161586761474609,
          5.19680118560791,
          5.232100486755371,
          5.272924900054932,
          5.427811145782471,
          5.446247100830078,
          5.5163421630859375,
          5.652573108673096,
          5.672372817993164,
          5.680614471435547,
          5.894672870635986,
          5.89909553527832,
          5.947113037109375,
          6.21829891204834,
          6.218435764312744,
          6.452279090881348,
          6.856966972351074,
          6.860156059265137,
          6.870936393737793,
          6.952047348022461,
          7.059543132781982,
          7.067077159881592,
          7.068631649017334,
          7.325284481048584,
          7.396487236022949,
          7.495845794677734,
          7.557450294494629,
          7.6178669929504395,
          7.724700927734375,
          7.732758522033691,
          7.755671501159668,
          7.8875579833984375,
          7.922392845153809,
          8.00503158569336,
          8.01404094696045,
          8.042444229125977,
          8.073141098022461,
          8.167868614196777,
          8.325170516967773,
          8.46058464050293,
          8.633808135986328,
          8.981191635131836,
          8.995450973510742,
          9.019655227661133,
          9.049086570739746,
          9.054611206054688,
          9.129404067993164,
          9.176122665405273,
          9.179447174072266,
          9.201513290405273,
          9.2198486328125,
          9.32470417022705,
          9.456562995910645,
          9.566384315490723,
          9.570499420166016,
          9.63705825805664,
          9.723533630371094,
          10.046098709106445,
          10.155848503112793,
          10.203899383544922,
          10.26710319519043,
          10.272714614868164,
          10.405143737792969,
          10.418630599975586,
          10.431365966796875,
          10.465782165527344,
          10.627808570861816,
          10.719107627868652,
          10.730700492858887,
          10.958441734313965,
          10.971622467041016,
          11.0502347946167,
          11.107139587402344,
          11.478347778320312,
          11.486334800720215,
          11.515737533569336,
          11.574606895446777,
          11.626428604125977,
          11.739130020141602,
          11.74588394165039,
          11.81458568572998,
          11.821647644042969,
          11.824254989624023,
          11.98891830444336,
          12.144818305969238,
          12.279853820800781,
          12.3004732131958,
          12.315349578857422,
          12.378862380981445,
          12.398109436035156,
          12.4920654296875,
          12.49597454071045,
          12.553902626037598,
          12.741344451904297,
          12.747937202453613,
          12.781017303466797,
          12.810680389404297,
          12.900323867797852,
          12.924571990966797,
          12.975028991699219,
          13.019155502319336,
          13.032365798950195,
          13.042460441589355,
          13.050738334655762,
          13.088773727416992,
          13.15925121307373,
          13.338347434997559,
          13.412006378173828,
          13.630552291870117,
          13.664911270141602,
          13.739876747131348,
          13.742582321166992,
          13.750431060791016,
          13.757287979125977,
          13.909358024597168,
          13.939817428588867,
          14.00286865234375,
          14.011127471923828,
          14.265283584594727,
          14.280563354492188,
          14.369686126708984,
          14.395742416381836,
          14.42050838470459,
          14.547248840332031,
          14.595226287841797,
          14.619463920593262,
          14.73994255065918,
          14.747490882873535,
          14.772737503051758,
          14.817505836486816,
          14.840888023376465,
          14.89086627960205,
          15.13450813293457,
          15.460027694702148,
          15.630983352661133,
          15.692505836486816,
          15.766365051269531,
          15.843984603881836,
          15.921443939208984,
          15.971875190734863,
          15.980395317077637,
          16.080934524536133,
          16.129051208496094,
          16.217456817626953,
          16.218303680419922,
          16.48164939880371,
          16.490880966186523,
          16.50320816040039,
          16.52489471435547,
          16.55616569519043,
          16.645183563232422,
          16.738201141357422,
          16.750919342041016,
          16.765438079833984,
          16.85042953491211,
          16.952226638793945,
          17.1292667388916,
          17.142704010009766,
          17.166149139404297,
          17.176048278808594,
          17.339740753173828,
          17.422386169433594,
          17.508930206298828,
          17.836214065551758,
          17.901636123657227,
          17.968994140625,
          17.970550537109375,
          18.181299209594727,
          18.219106674194336,
          18.335939407348633,
          18.35462760925293,
          18.356420516967773,
          18.461929321289062,
          18.54581642150879,
          18.5710506439209,
          18.636295318603516,
          18.705026626586914,
          18.823516845703125,
          19.18765640258789,
          19.251174926757812,
          19.40801239013672,
          19.474315643310547,
          19.486164093017578,
          19.505260467529297,
          19.69849395751953,
          19.712133407592773,
          19.755399703979492
         ],
         "y": [
          0.3089868426322937,
          0.2986791729927063,
          0.29502299427986145,
          0.2319124937057495,
          0.22762370109558105,
          0.21995514631271362,
          0.18955089151859283,
          0.18579860031604767,
          0.18024177849292755,
          0.17252902686595917,
          0.29069197177886963,
          0.326149046421051,
          0.3506295084953308,
          0.3627184331417084,
          0.4209607243537903,
          0.4340653419494629,
          0.441869854927063,
          0.48026761412620544,
          0.5374976992607117,
          0.5459157228469849,
          0.6351646184921265,
          0.6570836305618286,
          0.6611228585243225,
          0.6638492941856384,
          0.6640028357505798,
          0.6699146628379822,
          0.6755510568618774,
          0.6860440373420715,
          0.7246164083480835,
          0.7289401888847351,
          0.7304867506027222,
          0.7502259612083435,
          0.7566062808036804,
          0.7607012987136841,
          0.7608422040939331,
          0.7789921760559082,
          0.7851557731628418,
          0.7919012308120728,
          0.7993051409721375,
          0.8041120767593384,
          0.8152399063110352,
          0.8233909606933594,
          0.8515410423278809,
          0.877241313457489,
          0.8789594769477844,
          0.9085894823074341,
          0.9215286374092102,
          0.9329599142074585,
          0.9525102972984314,
          0.9595789909362793,
          0.9623674154281616,
          0.9758245944976807,
          0.9952518939971924,
          1.0012201070785522,
          1.008476734161377,
          1.0230743885040283,
          1.0296941995620728,
          1.0321507453918457,
          1.032346248626709,
          1.0367445945739746,
          1.0421160459518433,
          1.046445608139038,
          1.044490098953247,
          1.0222845077514648,
          1.016139268875122,
          1.0099793672561646,
          1.0028553009033203,
          0.9758265018463135,
          0.972609281539917,
          0.9603772163391113,
          0.9366040229797363,
          0.9331488013267517,
          0.9317106008529663,
          0.8943558931350708,
          0.8935840725898743,
          0.8852046728134155,
          0.8516271114349365,
          0.851611852645874,
          0.8255296945571899,
          0.7803919911384583,
          0.7800362706184387,
          0.7788338661193848,
          0.7697870135307312,
          0.7550837397575378,
          0.7539000511169434,
          0.7536558508872986,
          0.7133333683013916,
          0.7021467685699463,
          0.6865366697311401,
          0.6768580675125122,
          0.6673660278320312,
          0.6505814790725708,
          0.6493155360221863,
          0.6457157135009766,
          0.6249951720237732,
          0.6195222735404968,
          0.6058902144432068,
          0.6033130884170532,
          0.5951882004737854,
          0.5864073038101196,
          0.559310257434845,
          0.5143135786056519,
          0.4755780100822449,
          0.42602697014808655,
          0.3266569972038269,
          0.3225780725479126,
          0.31703317165374756,
          0.31067878007888794,
          0.3094859719276428,
          0.2933378219604492,
          0.2832510471343994,
          0.28253328800201416,
          0.2777690887451172,
          0.27381038665771484,
          0.2511715590953827,
          0.22270257771015167,
          0.19899162650108337,
          0.1981031447649002,
          0.1837327480316162,
          0.16506227850914001,
          0.08278481662273407,
          0.029010653495788574,
          0.005467146635055542,
          -0.025500856339931488,
          -0.028250284492969513,
          -0.09313664585351944,
          -0.09974481165409088,
          -0.10598476231098175,
          -0.12284767627716064,
          -0.20223583281040192,
          -0.24696967005729675,
          -0.25264984369277954,
          -0.36423632502555847,
          -0.37069448828697205,
          -0.3950936496257782,
          -0.4069821238517761,
          -0.48453450202941895,
          -0.486203134059906,
          -0.492345929145813,
          -0.5046448707580566,
          -0.5154713988304138,
          -0.539016842842102,
          -0.5404278635978699,
          -0.5547809600830078,
          -0.5562563538551331,
          -0.5568010210990906,
          -0.5912023186683655,
          -0.6242147088050842,
          -0.6528382897377014,
          -0.657209038734436,
          -0.6603623628616333,
          -0.6738252639770508,
          -0.6779050827026367,
          -0.6978210210800171,
          -0.6986496448516846,
          -0.7109286785125732,
          -0.7506608366966248,
          -0.7520583271980286,
          -0.7590703368186951,
          -0.7653580904006958,
          -0.784359872341156,
          -0.7894997596740723,
          -0.8001952171325684,
          -0.8091491460800171,
          -0.8116738200187683,
          -0.8136030435562134,
          -0.8151850700378418,
          -0.8224540948867798,
          -0.8359233140945435,
          -0.8701509833335876,
          -0.8842281699180603,
          -0.9259952306747437,
          -0.9325616359710693,
          -0.9468885660171509,
          -0.9474056363105774,
          -0.9489055871963501,
          -0.9502160549163818,
          -0.9792786836624146,
          -0.9850998520851135,
          -0.9965786337852478,
          -0.9965125322341919,
          -0.9944786429405212,
          -0.9943563938140869,
          -0.9936431646347046,
          -0.9934346675872803,
          -0.9932365417480469,
          -0.992222249507904,
          -0.9918383359909058,
          -0.9916443824768066,
          -0.9906802177429199,
          -0.9906198382377625,
          -0.9904178380966187,
          -0.9900595545768738,
          -0.989872395992279,
          -0.989472508430481,
          -0.988402783870697,
          -0.9879276156425476,
          -0.987678050994873,
          -0.9875882267951965,
          -0.9874804019927979,
          -0.9873671531677246,
          -0.9872540831565857,
          -0.9871804118156433,
          -0.98716801404953,
          -0.9740179181098938,
          -0.9662169814109802,
          -0.9518842101097107,
          -0.9517468810081482,
          -0.9090518951416016,
          -0.9075552821159363,
          -0.9055566787719727,
          -0.9020408391952515,
          -0.8969709873199463,
          -0.8825389742851257,
          -0.8674584627151489,
          -0.8653964996337891,
          -0.8630427122116089,
          -0.8492634296417236,
          -0.8327595591545105,
          -0.810566246509552,
          -0.8090643882751465,
          -0.8064438700675964,
          -0.8053374886512756,
          -0.7870416641235352,
          -0.777804434299469,
          -0.76813143491745,
          -0.7315511107444763,
          -0.724238932132721,
          -0.7167103886604309,
          -0.7165364027023315,
          -0.6071816086769104,
          -0.5850635766983032,
          -0.516714334487915,
          -0.5057814121246338,
          -0.5047325491905212,
          -0.4430080056190491,
          -0.3939325213432312,
          -0.37917008996009827,
          -0.3410007953643799,
          -0.30079174041748047,
          -0.23147284984588623,
          -0.1465836614370346,
          -0.15279707312583923,
          -0.16813895106315613,
          -0.1746247410774231,
          -0.17578375339508057,
          -0.1776517629623413,
          -0.19655391573905945,
          -0.19788813591003418,
          -0.20212045311927795
         ]
        },
        {
         "mode": "lines",
         "name": "predicted cos",
         "type": "scatter",
         "x": [
          0.13271212577819824,
          0.19446015357971191,
          0.21636247634887695,
          0.5944252014160156,
          0.6201171875,
          0.6660556793212891,
          0.8481919765472412,
          0.8706700801849365,
          0.9039580821990967,
          0.9501612186431885,
          1.2560606002807617,
          1.3278424739837646,
          1.3774025440216064,
          1.4018762111663818,
          1.5197861194610596,
          1.546316146850586,
          1.5621161460876465,
          1.6398513317108154,
          1.7557120323181152,
          1.772754192352295,
          1.9534361362457275,
          1.9978106021881104,
          2.023557424545288,
          2.0452725887298584,
          2.0464956760406494,
          2.093580961227417,
          2.13847279548645,
          2.222045660018921,
          2.5292599201202393,
          2.563697099685669,
          2.576014995574951,
          2.7332305908203125,
          2.7840471267700195,
          2.8166627883911133,
          2.817784547805786,
          2.9623425006866455,
          3.0107641220092773,
          3.0613434314727783,
          3.1168603897094727,
          3.152904510498047,
          3.2363438606262207,
          3.2974636554718018,
          3.5085415840148926,
          3.7012505531311035,
          3.7141335010528564,
          3.9363086223602295,
          4.033321380615234,
          4.119013786315918,
          4.265569686889648,
          4.318559169769287,
          4.3394622802734375,
          4.440340995788574,
          4.585974216461182,
          4.63071346282959,
          4.685111999511719,
          4.7945404052734375,
          4.844164848327637,
          4.862579345703125,
          4.864045143127441,
          4.897016525268555,
          4.937282562255859,
          4.969737529754639,
          5.034339427947998,
          5.161586761474609,
          5.19680118560791,
          5.232100486755371,
          5.272924900054932,
          5.427811145782471,
          5.446247100830078,
          5.5163421630859375,
          5.652573108673096,
          5.672372817993164,
          5.680614471435547,
          5.894672870635986,
          5.89909553527832,
          5.947113037109375,
          6.21829891204834,
          6.218435764312744,
          6.452279090881348,
          6.856966972351074,
          6.860156059265137,
          6.870936393737793,
          6.952047348022461,
          7.059543132781982,
          7.067077159881592,
          7.068631649017334,
          7.325284481048584,
          7.396487236022949,
          7.495845794677734,
          7.557450294494629,
          7.6178669929504395,
          7.724700927734375,
          7.732758522033691,
          7.755671501159668,
          7.8875579833984375,
          7.922392845153809,
          8.00503158569336,
          8.01404094696045,
          8.042444229125977,
          8.073141098022461,
          8.167868614196777,
          8.325170516967773,
          8.46058464050293,
          8.633808135986328,
          8.981191635131836,
          8.995450973510742,
          9.019655227661133,
          9.049086570739746,
          9.054611206054688,
          9.129404067993164,
          9.176122665405273,
          9.179447174072266,
          9.201513290405273,
          9.2198486328125,
          9.32470417022705,
          9.456562995910645,
          9.566384315490723,
          9.570499420166016,
          9.63705825805664,
          9.723533630371094,
          10.046098709106445,
          10.155848503112793,
          10.203899383544922,
          10.26710319519043,
          10.272714614868164,
          10.405143737792969,
          10.418630599975586,
          10.431365966796875,
          10.465782165527344,
          10.627808570861816,
          10.719107627868652,
          10.730700492858887,
          10.958441734313965,
          10.971622467041016,
          11.0502347946167,
          11.107139587402344,
          11.478347778320312,
          11.486334800720215,
          11.515737533569336,
          11.574606895446777,
          11.626428604125977,
          11.739130020141602,
          11.74588394165039,
          11.81458568572998,
          11.821647644042969,
          11.824254989624023,
          11.98891830444336,
          12.144818305969238,
          12.279853820800781,
          12.3004732131958,
          12.315349578857422,
          12.378862380981445,
          12.398109436035156,
          12.4920654296875,
          12.49597454071045,
          12.553902626037598,
          12.741344451904297,
          12.747937202453613,
          12.781017303466797,
          12.810680389404297,
          12.900323867797852,
          12.924571990966797,
          12.975028991699219,
          13.019155502319336,
          13.032365798950195,
          13.042460441589355,
          13.050738334655762,
          13.088773727416992,
          13.15925121307373,
          13.338347434997559,
          13.412006378173828,
          13.630552291870117,
          13.664911270141602,
          13.739876747131348,
          13.742582321166992,
          13.750431060791016,
          13.757287979125977,
          13.909358024597168,
          13.939817428588867,
          14.00286865234375,
          14.011127471923828,
          14.265283584594727,
          14.280563354492188,
          14.369686126708984,
          14.395742416381836,
          14.42050838470459,
          14.547248840332031,
          14.595226287841797,
          14.619463920593262,
          14.73994255065918,
          14.747490882873535,
          14.772737503051758,
          14.817505836486816,
          14.840888023376465,
          14.89086627960205,
          15.13450813293457,
          15.460027694702148,
          15.630983352661133,
          15.692505836486816,
          15.766365051269531,
          15.843984603881836,
          15.921443939208984,
          15.971875190734863,
          15.980395317077637,
          16.080934524536133,
          16.129051208496094,
          16.217456817626953,
          16.218303680419922,
          16.48164939880371,
          16.490880966186523,
          16.50320816040039,
          16.52489471435547,
          16.55616569519043,
          16.645183563232422,
          16.738201141357422,
          16.750919342041016,
          16.765438079833984,
          16.85042953491211,
          16.952226638793945,
          17.1292667388916,
          17.142704010009766,
          17.166149139404297,
          17.176048278808594,
          17.339740753173828,
          17.422386169433594,
          17.508930206298828,
          17.836214065551758,
          17.901636123657227,
          17.968994140625,
          17.970550537109375,
          18.181299209594727,
          18.219106674194336,
          18.335939407348633,
          18.35462760925293,
          18.356420516967773,
          18.461929321289062,
          18.54581642150879,
          18.5710506439209,
          18.636295318603516,
          18.705026626586914,
          18.823516845703125,
          19.18765640258789,
          19.251174926757812,
          19.40801239013672,
          19.474315643310547,
          19.486164093017578,
          19.505260467529297,
          19.69849395751953,
          19.712133407592773,
          19.755399703979492
         ],
         "y": [
          0.5061942338943481,
          0.5513444542884827,
          0.5673595070838928,
          0.8437995314598083,
          0.8625855445861816,
          0.8961758017539978,
          1.029354214668274,
          1.045790195465088,
          1.070130467414856,
          1.1039142608642578,
          1.0391138792037964,
          1.0107324123382568,
          0.9911370873451233,
          0.9814605712890625,
          0.9348407983779907,
          0.9243512153625488,
          0.9181041121482849,
          0.8873687982559204,
          0.8415592312812805,
          0.8348209857940674,
          0.7633820176124573,
          0.7458370923995972,
          0.7428222894668579,
          0.740841269493103,
          0.7407297492027283,
          0.736434280872345,
          0.7323389053344727,
          0.7247147560119629,
          0.6966884136199951,
          0.6935468316078186,
          0.6924231052398682,
          0.6780807375907898,
          0.673444926738739,
          0.6704694032669067,
          0.6703671216964722,
          0.6571794748306274,
          0.6495911478996277,
          0.6300770044326782,
          0.6086578369140625,
          0.5947515368461609,
          0.5625595450401306,
          0.5389787554740906,
          0.4575421214103699,
          0.3831925094127655,
          0.37822210788726807,
          0.29250404238700867,
          0.26026859879493713,
          0.2405630648136139,
          0.20686154067516327,
          0.1946762651205063,
          0.1898694485425949,
          0.1666717231273651,
          0.1331823766231537,
          0.122894287109375,
          0.1103849858045578,
          0.08522118628025055,
          0.07380971312522888,
          0.06957517564296722,
          0.06923811137676239,
          0.06165611743927002,
          0.05239667370915413,
          0.044933438301086426,
          0.01831187680363655,
          -0.05454900115728378,
          -0.07471251487731934,
          -0.09492463618516922,
          -0.11830039322376251,
          -0.20698711276054382,
          -0.21754339337348938,
          -0.2576793134212494,
          -0.3356841504573822,
          -0.34702131152153015,
          -0.35174041986465454,
          -0.47430866956710815,
          -0.4768410623073578,
          -0.5043354630470276,
          -0.5316672921180725,
          -0.5316654443740845,
          -0.5285043716430664,
          -0.5230339765548706,
          -0.5229908227920532,
          -0.5228450894355774,
          -0.5217486619949341,
          -0.5401877760887146,
          -0.5426028966903687,
          -0.5431011915206909,
          -0.6253745555877686,
          -0.6481995582580566,
          -0.6800501942634583,
          -0.6997982859611511,
          -0.7191656827926636,
          -0.753412663936615,
          -0.7559955716133118,
          -0.7633406519889832,
          -0.8056185245513916,
          -0.8167853355407715,
          -0.8418254852294922,
          -0.8421159386634827,
          -0.8430315256118774,
          -0.8440210819244385,
          -0.8470746874809265,
          -0.8521455526351929,
          -0.8565107583999634,
          -0.8620947599411011,
          -0.8732930421829224,
          -0.8737527132034302,
          -0.8776565194129944,
          -0.8832824230194092,
          -0.8843384385108948,
          -0.8986354470252991,
          -0.9075658321380615,
          -0.9082013368606567,
          -0.912419319152832,
          -0.9159241914749146,
          -0.9359676837921143,
          -0.9611730575561523,
          -0.9821657538414001,
          -0.9829524159431458,
          -0.9956753253936768,
          -1.0122053623199463,
          -1.0605442523956299,
          -1.0498099327087402,
          -1.0451103448867798,
          -1.038928508758545,
          -1.0383796691894531,
          -1.0254273414611816,
          -1.0241081714630127,
          -1.0228625535964966,
          -1.0194964408874512,
          -1.003649115562439,
          -0.9947195053100586,
          -0.9935857057571411,
          -0.971311092376709,
          -0.9700219035148621,
          -0.9588314294815063,
          -0.9492990374565125,
          -0.887116551399231,
          -0.885778546333313,
          -0.8808531761169434,
          -0.8709917664527893,
          -0.8623108863830566,
          -0.843431830406189,
          -0.8423004746437073,
          -0.8307919502258301,
          -0.8296090364456177,
          -0.8291722536087036,
          -0.8015888333320618,
          -0.7727566361427307,
          -0.7476030588150024,
          -0.7437621355056763,
          -0.7409911155700684,
          -0.7291603088378906,
          -0.7255750894546509,
          -0.7080735564231873,
          -0.7073453664779663,
          -0.6965548992156982,
          -0.6616393327713013,
          -0.6604112982749939,
          -0.654249370098114,
          -0.6487239003181458,
          -0.6320256590843201,
          -0.627508819103241,
          -0.6181100010871887,
          -0.6082426309585571,
          -0.6046455502510071,
          -0.6018968820571899,
          -0.5996428728103638,
          -0.5892860293388367,
          -0.5700953602790833,
          -0.5213285088539124,
          -0.5012716054916382,
          -0.44176286458969116,
          -0.43240708112716675,
          -0.41199442744255066,
          -0.41125771403312683,
          -0.4091205596923828,
          -0.4072534441947937,
          -0.3658456802368164,
          -0.3575517237186432,
          -0.34002652764320374,
          -0.3367505967617035,
          -0.23593847453594208,
          -0.22987768054008484,
          -0.19452673196792603,
          -0.18419139087200165,
          -0.17436787486076355,
          -0.12409571558237076,
          -0.1050652340054512,
          -0.09545127302408218,
          -0.047662895172834396,
          -0.044668812304735184,
          -0.034654632210731506,
          -0.01689707487821579,
          -0.007622428238391876,
          0.012201670557260513,
          0.08848192542791367,
          0.16832470893859863,
          0.21025635302066803,
          0.22534647583961487,
          0.24346250295639038,
          0.2625008821487427,
          0.2814999222755432,
          0.29386964440345764,
          0.2959594428539276,
          0.3228209316730499,
          0.335931658744812,
          0.3600202798843384,
          0.3602510392665863,
          0.4320070445537567,
          0.43452244997024536,
          0.43788135051727295,
          0.443790465593338,
          0.45231112837791443,
          0.4765665531158447,
          0.5019118189811707,
          0.5053772926330566,
          0.5093333125114441,
          0.5324916839599609,
          0.5602291822433472,
          0.6167834401130676,
          0.6213091015815735,
          0.6292054057121277,
          0.6325394511222839,
          0.6876711249351501,
          0.7155060768127441,
          0.7446541786193848,
          0.8548834323883057,
          0.8769175410270691,
          0.8996037244796753,
          0.9001279473304749,
          0.9045149087905884,
          0.9033613204956055,
          0.8997966051101685,
          0.8992264270782471,
          0.8991717100143433,
          0.895952582359314,
          0.8933930397033691,
          0.8926231265068054,
          0.8906324505805969,
          0.8885353803634644,
          0.8849201202392578,
          0.9047917127609253,
          0.9133405685424805,
          0.9344489574432373,
          0.9433726072311401,
          0.9449672698974609,
          0.9475373029708862,
          0.9735442399978638,
          0.9753799438476562,
          0.9812030792236328
         ]
        }
       ],
       "layout": {
        "template": {
         "data": {
          "bar": [
           {
            "error_x": {
             "color": "#2a3f5f"
            },
            "error_y": {
             "color": "#2a3f5f"
            },
            "marker": {
             "line": {
              "color": "#E5ECF6",
              "width": 0.5
             },
             "pattern": {
              "fillmode": "overlay",
              "size": 10,
              "solidity": 0.2
             }
            },
            "type": "bar"
           }
          ],
          "barpolar": [
           {
            "marker": {
             "line": {
              "color": "#E5ECF6",
              "width": 0.5
             },
             "pattern": {
              "fillmode": "overlay",
              "size": 10,
              "solidity": 0.2
             }
            },
            "type": "barpolar"
           }
          ],
          "carpet": [
           {
            "aaxis": {
             "endlinecolor": "#2a3f5f",
             "gridcolor": "white",
             "linecolor": "white",
             "minorgridcolor": "white",
             "startlinecolor": "#2a3f5f"
            },
            "baxis": {
             "endlinecolor": "#2a3f5f",
             "gridcolor": "white",
             "linecolor": "white",
             "minorgridcolor": "white",
             "startlinecolor": "#2a3f5f"
            },
            "type": "carpet"
           }
          ],
          "choropleth": [
           {
            "colorbar": {
             "outlinewidth": 0,
             "ticks": ""
            },
            "type": "choropleth"
           }
          ],
          "contour": [
           {
            "colorbar": {
             "outlinewidth": 0,
             "ticks": ""
            },
            "colorscale": [
             [
              0,
              "#0d0887"
             ],
             [
              0.1111111111111111,
              "#46039f"
             ],
             [
              0.2222222222222222,
              "#7201a8"
             ],
             [
              0.3333333333333333,
              "#9c179e"
             ],
             [
              0.4444444444444444,
              "#bd3786"
             ],
             [
              0.5555555555555556,
              "#d8576b"
             ],
             [
              0.6666666666666666,
              "#ed7953"
             ],
             [
              0.7777777777777778,
              "#fb9f3a"
             ],
             [
              0.8888888888888888,
              "#fdca26"
             ],
             [
              1,
              "#f0f921"
             ]
            ],
            "type": "contour"
           }
          ],
          "contourcarpet": [
           {
            "colorbar": {
             "outlinewidth": 0,
             "ticks": ""
            },
            "type": "contourcarpet"
           }
          ],
          "heatmap": [
           {
            "colorbar": {
             "outlinewidth": 0,
             "ticks": ""
            },
            "colorscale": [
             [
              0,
              "#0d0887"
             ],
             [
              0.1111111111111111,
              "#46039f"
             ],
             [
              0.2222222222222222,
              "#7201a8"
             ],
             [
              0.3333333333333333,
              "#9c179e"
             ],
             [
              0.4444444444444444,
              "#bd3786"
             ],
             [
              0.5555555555555556,
              "#d8576b"
             ],
             [
              0.6666666666666666,
              "#ed7953"
             ],
             [
              0.7777777777777778,
              "#fb9f3a"
             ],
             [
              0.8888888888888888,
              "#fdca26"
             ],
             [
              1,
              "#f0f921"
             ]
            ],
            "type": "heatmap"
           }
          ],
          "heatmapgl": [
           {
            "colorbar": {
             "outlinewidth": 0,
             "ticks": ""
            },
            "colorscale": [
             [
              0,
              "#0d0887"
             ],
             [
              0.1111111111111111,
              "#46039f"
             ],
             [
              0.2222222222222222,
              "#7201a8"
             ],
             [
              0.3333333333333333,
              "#9c179e"
             ],
             [
              0.4444444444444444,
              "#bd3786"
             ],
             [
              0.5555555555555556,
              "#d8576b"
             ],
             [
              0.6666666666666666,
              "#ed7953"
             ],
             [
              0.7777777777777778,
              "#fb9f3a"
             ],
             [
              0.8888888888888888,
              "#fdca26"
             ],
             [
              1,
              "#f0f921"
             ]
            ],
            "type": "heatmapgl"
           }
          ],
          "histogram": [
           {
            "marker": {
             "pattern": {
              "fillmode": "overlay",
              "size": 10,
              "solidity": 0.2
             }
            },
            "type": "histogram"
           }
          ],
          "histogram2d": [
           {
            "colorbar": {
             "outlinewidth": 0,
             "ticks": ""
            },
            "colorscale": [
             [
              0,
              "#0d0887"
             ],
             [
              0.1111111111111111,
              "#46039f"
             ],
             [
              0.2222222222222222,
              "#7201a8"
             ],
             [
              0.3333333333333333,
              "#9c179e"
             ],
             [
              0.4444444444444444,
              "#bd3786"
             ],
             [
              0.5555555555555556,
              "#d8576b"
             ],
             [
              0.6666666666666666,
              "#ed7953"
             ],
             [
              0.7777777777777778,
              "#fb9f3a"
             ],
             [
              0.8888888888888888,
              "#fdca26"
             ],
             [
              1,
              "#f0f921"
             ]
            ],
            "type": "histogram2d"
           }
          ],
          "histogram2dcontour": [
           {
            "colorbar": {
             "outlinewidth": 0,
             "ticks": ""
            },
            "colorscale": [
             [
              0,
              "#0d0887"
             ],
             [
              0.1111111111111111,
              "#46039f"
             ],
             [
              0.2222222222222222,
              "#7201a8"
             ],
             [
              0.3333333333333333,
              "#9c179e"
             ],
             [
              0.4444444444444444,
              "#bd3786"
             ],
             [
              0.5555555555555556,
              "#d8576b"
             ],
             [
              0.6666666666666666,
              "#ed7953"
             ],
             [
              0.7777777777777778,
              "#fb9f3a"
             ],
             [
              0.8888888888888888,
              "#fdca26"
             ],
             [
              1,
              "#f0f921"
             ]
            ],
            "type": "histogram2dcontour"
           }
          ],
          "mesh3d": [
           {
            "colorbar": {
             "outlinewidth": 0,
             "ticks": ""
            },
            "type": "mesh3d"
           }
          ],
          "parcoords": [
           {
            "line": {
             "colorbar": {
              "outlinewidth": 0,
              "ticks": ""
             }
            },
            "type": "parcoords"
           }
          ],
          "pie": [
           {
            "automargin": true,
            "type": "pie"
           }
          ],
          "scatter": [
           {
            "fillpattern": {
             "fillmode": "overlay",
             "size": 10,
             "solidity": 0.2
            },
            "type": "scatter"
           }
          ],
          "scatter3d": [
           {
            "line": {
             "colorbar": {
              "outlinewidth": 0,
              "ticks": ""
             }
            },
            "marker": {
             "colorbar": {
              "outlinewidth": 0,
              "ticks": ""
             }
            },
            "type": "scatter3d"
           }
          ],
          "scattercarpet": [
           {
            "marker": {
             "colorbar": {
              "outlinewidth": 0,
              "ticks": ""
             }
            },
            "type": "scattercarpet"
           }
          ],
          "scattergeo": [
           {
            "marker": {
             "colorbar": {
              "outlinewidth": 0,
              "ticks": ""
             }
            },
            "type": "scattergeo"
           }
          ],
          "scattergl": [
           {
            "marker": {
             "colorbar": {
              "outlinewidth": 0,
              "ticks": ""
             }
            },
            "type": "scattergl"
           }
          ],
          "scattermapbox": [
           {
            "marker": {
             "colorbar": {
              "outlinewidth": 0,
              "ticks": ""
             }
            },
            "type": "scattermapbox"
           }
          ],
          "scatterpolar": [
           {
            "marker": {
             "colorbar": {
              "outlinewidth": 0,
              "ticks": ""
             }
            },
            "type": "scatterpolar"
           }
          ],
          "scatterpolargl": [
           {
            "marker": {
             "colorbar": {
              "outlinewidth": 0,
              "ticks": ""
             }
            },
            "type": "scatterpolargl"
           }
          ],
          "scatterternary": [
           {
            "marker": {
             "colorbar": {
              "outlinewidth": 0,
              "ticks": ""
             }
            },
            "type": "scatterternary"
           }
          ],
          "surface": [
           {
            "colorbar": {
             "outlinewidth": 0,
             "ticks": ""
            },
            "colorscale": [
             [
              0,
              "#0d0887"
             ],
             [
              0.1111111111111111,
              "#46039f"
             ],
             [
              0.2222222222222222,
              "#7201a8"
             ],
             [
              0.3333333333333333,
              "#9c179e"
             ],
             [
              0.4444444444444444,
              "#bd3786"
             ],
             [
              0.5555555555555556,
              "#d8576b"
             ],
             [
              0.6666666666666666,
              "#ed7953"
             ],
             [
              0.7777777777777778,
              "#fb9f3a"
             ],
             [
              0.8888888888888888,
              "#fdca26"
             ],
             [
              1,
              "#f0f921"
             ]
            ],
            "type": "surface"
           }
          ],
          "table": [
           {
            "cells": {
             "fill": {
              "color": "#EBF0F8"
             },
             "line": {
              "color": "white"
             }
            },
            "header": {
             "fill": {
              "color": "#C8D4E3"
             },
             "line": {
              "color": "white"
             }
            },
            "type": "table"
           }
          ]
         },
         "layout": {
          "annotationdefaults": {
           "arrowcolor": "#2a3f5f",
           "arrowhead": 0,
           "arrowwidth": 1
          },
          "autotypenumbers": "strict",
          "coloraxis": {
           "colorbar": {
            "outlinewidth": 0,
            "ticks": ""
           }
          },
          "colorscale": {
           "diverging": [
            [
             0,
             "#8e0152"
            ],
            [
             0.1,
             "#c51b7d"
            ],
            [
             0.2,
             "#de77ae"
            ],
            [
             0.3,
             "#f1b6da"
            ],
            [
             0.4,
             "#fde0ef"
            ],
            [
             0.5,
             "#f7f7f7"
            ],
            [
             0.6,
             "#e6f5d0"
            ],
            [
             0.7,
             "#b8e186"
            ],
            [
             0.8,
             "#7fbc41"
            ],
            [
             0.9,
             "#4d9221"
            ],
            [
             1,
             "#276419"
            ]
           ],
           "sequential": [
            [
             0,
             "#0d0887"
            ],
            [
             0.1111111111111111,
             "#46039f"
            ],
            [
             0.2222222222222222,
             "#7201a8"
            ],
            [
             0.3333333333333333,
             "#9c179e"
            ],
            [
             0.4444444444444444,
             "#bd3786"
            ],
            [
             0.5555555555555556,
             "#d8576b"
            ],
            [
             0.6666666666666666,
             "#ed7953"
            ],
            [
             0.7777777777777778,
             "#fb9f3a"
            ],
            [
             0.8888888888888888,
             "#fdca26"
            ],
            [
             1,
             "#f0f921"
            ]
           ],
           "sequentialminus": [
            [
             0,
             "#0d0887"
            ],
            [
             0.1111111111111111,
             "#46039f"
            ],
            [
             0.2222222222222222,
             "#7201a8"
            ],
            [
             0.3333333333333333,
             "#9c179e"
            ],
            [
             0.4444444444444444,
             "#bd3786"
            ],
            [
             0.5555555555555556,
             "#d8576b"
            ],
            [
             0.6666666666666666,
             "#ed7953"
            ],
            [
             0.7777777777777778,
             "#fb9f3a"
            ],
            [
             0.8888888888888888,
             "#fdca26"
            ],
            [
             1,
             "#f0f921"
            ]
           ]
          },
          "colorway": [
           "#636efa",
           "#EF553B",
           "#00cc96",
           "#ab63fa",
           "#FFA15A",
           "#19d3f3",
           "#FF6692",
           "#B6E880",
           "#FF97FF",
           "#FECB52"
          ],
          "font": {
           "color": "#2a3f5f"
          },
          "geo": {
           "bgcolor": "white",
           "lakecolor": "white",
           "landcolor": "#E5ECF6",
           "showlakes": true,
           "showland": true,
           "subunitcolor": "white"
          },
          "hoverlabel": {
           "align": "left"
          },
          "hovermode": "closest",
          "mapbox": {
           "style": "light"
          },
          "paper_bgcolor": "white",
          "plot_bgcolor": "#E5ECF6",
          "polar": {
           "angularaxis": {
            "gridcolor": "white",
            "linecolor": "white",
            "ticks": ""
           },
           "bgcolor": "#E5ECF6",
           "radialaxis": {
            "gridcolor": "white",
            "linecolor": "white",
            "ticks": ""
           }
          },
          "scene": {
           "xaxis": {
            "backgroundcolor": "#E5ECF6",
            "gridcolor": "white",
            "gridwidth": 2,
            "linecolor": "white",
            "showbackground": true,
            "ticks": "",
            "zerolinecolor": "white"
           },
           "yaxis": {
            "backgroundcolor": "#E5ECF6",
            "gridcolor": "white",
            "gridwidth": 2,
            "linecolor": "white",
            "showbackground": true,
            "ticks": "",
            "zerolinecolor": "white"
           },
           "zaxis": {
            "backgroundcolor": "#E5ECF6",
            "gridcolor": "white",
            "gridwidth": 2,
            "linecolor": "white",
            "showbackground": true,
            "ticks": "",
            "zerolinecolor": "white"
           }
          },
          "shapedefaults": {
           "line": {
            "color": "#2a3f5f"
           }
          },
          "ternary": {
           "aaxis": {
            "gridcolor": "white",
            "linecolor": "white",
            "ticks": ""
           },
           "baxis": {
            "gridcolor": "white",
            "linecolor": "white",
            "ticks": ""
           },
           "bgcolor": "#E5ECF6",
           "caxis": {
            "gridcolor": "white",
            "linecolor": "white",
            "ticks": ""
           }
          },
          "title": {
           "x": 0.05
          },
          "xaxis": {
           "automargin": true,
           "gridcolor": "white",
           "linecolor": "white",
           "ticks": "",
           "title": {
            "standoff": 15
           },
           "zerolinecolor": "white",
           "zerolinewidth": 2
          },
          "yaxis": {
           "automargin": true,
           "gridcolor": "white",
           "linecolor": "white",
           "ticks": "",
           "title": {
            "standoff": 15
           },
           "zerolinecolor": "white",
           "zerolinewidth": 2
          }
         }
        }
       }
      }
     },
     "metadata": {},
     "output_type": "display_data"
    }
   ],
   "source": [
    "x_sorted = torch.sort(x_samples).values\n",
    "y_pred = model(x_sorted).detach().numpy()\n",
    "fig = plotly.graph_objects.Figure()\n",
    "fig.add_scatter(x=x_samples, y=y_samples[:, 0], mode='markers', name='sin')\n",
    "fig.add_scatter(x=x_samples, y=y_samples[:, 1], mode='markers', name='cos')\n",
    "fig.add_scatter(x=x_sorted, y=y_pred[:, 0], mode='lines', name='predicted sin')\n",
    "fig.add_scatter(x=x_sorted, y=y_pred[:, 1], mode='lines', name='predicted cos')\n",
    "fig.show()\n"
   ]
  },
  {
   "cell_type": "markdown",
   "metadata": {},
   "source": [
    "## Stochastic Gradient Descent\n",
    "\n",
    "**Stochastic gradient descent** is an approximate gradient descent procedure, to cope with the very large data sets typically thrown at supervised problems. It is typically impossible to calculate the *exact* gradient, which requires looping over all the examples, which can run in the millions. An easy approximation scheme is to *randomly sample* a small subset of the examples, and calculate the gradient of the weights using only those examples. The upside is that this is much faster, but the downside is that this is only approximate. Hence, if we adjust weights with this approximate gradient, we might or might not make progress on the task. This procedure is called stochastic gradient descent, and it works amazingly well in practice.\n",
    "\n",
    "The `DataLoader` class in PyTorch makes implementing SGD very easy: it can wrap any `Dataset` instance, and then retrieves training samples one \"mini-batch\" at a time. The code below uses a mini-batch size of 25, but feel free to experiment with different values for both this parameter and the learning rate to get a feel for what happens. Note that by convention we refer to one execution of the inner loop below, over a mini-batch, as an \"iteration\". One full cycle through the dataset by randomly selecting mini-batches is referred to as an \"epoch\"."
   ]
  },
  {
   "cell_type": "code",
   "execution_count": 12,
   "metadata": {},
   "outputs": [],
   "source": [
    "def train_sgd(model, dataset, loss_fn, callback=None, learning_rate=0.5, num_epochs=31, batch_size=25):\n",
    "    # Initialize optimizer\n",
    "    optimizer = optim.SGD(model.parameters(), lr=learning_rate)\n",
    "\n",
    "    # Create DataLoader for batch processing\n",
    "    data_loader = DataLoader(dataset, batch_size=batch_size, shuffle=True)\n",
    "\n",
    "    # Loop over the dataset multiple times (each loop is an epoch)\n",
    "    for epoch in range(num_epochs):\n",
    "        for x_batch, y_batch in data_loader:\n",
    "            optimizer.zero_grad()\n",
    "            output = model(x_batch)\n",
    "            loss = loss_fn(output, y_batch)\n",
    "            loss.backward()\n",
    "            optimizer.step()\n",
    "\n",
    "        if callback is not None:\n",
    "            callback(epoch, model)"
   ]
  },
  {
   "cell_type": "code",
   "execution_count": 13,
   "metadata": {},
   "outputs": [
    {
     "data": {
      "application/vnd.plotly.v1+json": {
       "config": {
        "plotlyServerURL": "https://plot.ly"
       },
       "data": [
        {
         "hovertemplate": "Epoch=%{x}<br>Loss=%{y}<extra></extra>",
         "legendgroup": "",
         "line": {
          "color": "#636efa",
          "dash": "solid"
         },
         "marker": {
          "symbol": "circle"
         },
         "mode": "lines",
         "name": "",
         "orientation": "v",
         "showlegend": false,
         "type": "scatter",
         "x": [
          0,
          1,
          2,
          3,
          4,
          5,
          6,
          7,
          8,
          9,
          10,
          11,
          12,
          13,
          14,
          15,
          16,
          17,
          18,
          19,
          20,
          21,
          22,
          23,
          24,
          25,
          26,
          27,
          28,
          29,
          30
         ],
         "xaxis": "x",
         "y": [
          0.6493513584136963,
          0.42927300930023193,
          0.2919096350669861,
          0.20497220754623413,
          0.14863227307796478,
          0.11165209859609604,
          0.08669378608465195,
          0.06947833299636841,
          0.0573669858276844,
          0.04855652153491974,
          0.04197285324335098,
          0.03696296364068985,
          0.033043693751096725,
          0.029924191534519196,
          0.027400868013501167,
          0.025307931005954742,
          0.023559581488370895,
          0.02207653783261776,
          0.020800592377781868,
          0.019698236137628555,
          0.018725868314504623,
          0.01787615194916725,
          0.01712140627205372,
          0.016445117071270943,
          0.015841009095311165,
          0.015294738113880157,
          0.014799718745052814,
          0.014349174685776234,
          0.013938581570982933,
          0.013561621308326721,
          0.013215373270213604
         ],
         "yaxis": "y"
        }
       ],
       "layout": {
        "legend": {
         "tracegroupgap": 0
        },
        "margin": {
         "t": 60
        },
        "template": {
         "data": {
          "bar": [
           {
            "error_x": {
             "color": "#2a3f5f"
            },
            "error_y": {
             "color": "#2a3f5f"
            },
            "marker": {
             "line": {
              "color": "#E5ECF6",
              "width": 0.5
             },
             "pattern": {
              "fillmode": "overlay",
              "size": 10,
              "solidity": 0.2
             }
            },
            "type": "bar"
           }
          ],
          "barpolar": [
           {
            "marker": {
             "line": {
              "color": "#E5ECF6",
              "width": 0.5
             },
             "pattern": {
              "fillmode": "overlay",
              "size": 10,
              "solidity": 0.2
             }
            },
            "type": "barpolar"
           }
          ],
          "carpet": [
           {
            "aaxis": {
             "endlinecolor": "#2a3f5f",
             "gridcolor": "white",
             "linecolor": "white",
             "minorgridcolor": "white",
             "startlinecolor": "#2a3f5f"
            },
            "baxis": {
             "endlinecolor": "#2a3f5f",
             "gridcolor": "white",
             "linecolor": "white",
             "minorgridcolor": "white",
             "startlinecolor": "#2a3f5f"
            },
            "type": "carpet"
           }
          ],
          "choropleth": [
           {
            "colorbar": {
             "outlinewidth": 0,
             "ticks": ""
            },
            "type": "choropleth"
           }
          ],
          "contour": [
           {
            "colorbar": {
             "outlinewidth": 0,
             "ticks": ""
            },
            "colorscale": [
             [
              0,
              "#0d0887"
             ],
             [
              0.1111111111111111,
              "#46039f"
             ],
             [
              0.2222222222222222,
              "#7201a8"
             ],
             [
              0.3333333333333333,
              "#9c179e"
             ],
             [
              0.4444444444444444,
              "#bd3786"
             ],
             [
              0.5555555555555556,
              "#d8576b"
             ],
             [
              0.6666666666666666,
              "#ed7953"
             ],
             [
              0.7777777777777778,
              "#fb9f3a"
             ],
             [
              0.8888888888888888,
              "#fdca26"
             ],
             [
              1,
              "#f0f921"
             ]
            ],
            "type": "contour"
           }
          ],
          "contourcarpet": [
           {
            "colorbar": {
             "outlinewidth": 0,
             "ticks": ""
            },
            "type": "contourcarpet"
           }
          ],
          "heatmap": [
           {
            "colorbar": {
             "outlinewidth": 0,
             "ticks": ""
            },
            "colorscale": [
             [
              0,
              "#0d0887"
             ],
             [
              0.1111111111111111,
              "#46039f"
             ],
             [
              0.2222222222222222,
              "#7201a8"
             ],
             [
              0.3333333333333333,
              "#9c179e"
             ],
             [
              0.4444444444444444,
              "#bd3786"
             ],
             [
              0.5555555555555556,
              "#d8576b"
             ],
             [
              0.6666666666666666,
              "#ed7953"
             ],
             [
              0.7777777777777778,
              "#fb9f3a"
             ],
             [
              0.8888888888888888,
              "#fdca26"
             ],
             [
              1,
              "#f0f921"
             ]
            ],
            "type": "heatmap"
           }
          ],
          "heatmapgl": [
           {
            "colorbar": {
             "outlinewidth": 0,
             "ticks": ""
            },
            "colorscale": [
             [
              0,
              "#0d0887"
             ],
             [
              0.1111111111111111,
              "#46039f"
             ],
             [
              0.2222222222222222,
              "#7201a8"
             ],
             [
              0.3333333333333333,
              "#9c179e"
             ],
             [
              0.4444444444444444,
              "#bd3786"
             ],
             [
              0.5555555555555556,
              "#d8576b"
             ],
             [
              0.6666666666666666,
              "#ed7953"
             ],
             [
              0.7777777777777778,
              "#fb9f3a"
             ],
             [
              0.8888888888888888,
              "#fdca26"
             ],
             [
              1,
              "#f0f921"
             ]
            ],
            "type": "heatmapgl"
           }
          ],
          "histogram": [
           {
            "marker": {
             "pattern": {
              "fillmode": "overlay",
              "size": 10,
              "solidity": 0.2
             }
            },
            "type": "histogram"
           }
          ],
          "histogram2d": [
           {
            "colorbar": {
             "outlinewidth": 0,
             "ticks": ""
            },
            "colorscale": [
             [
              0,
              "#0d0887"
             ],
             [
              0.1111111111111111,
              "#46039f"
             ],
             [
              0.2222222222222222,
              "#7201a8"
             ],
             [
              0.3333333333333333,
              "#9c179e"
             ],
             [
              0.4444444444444444,
              "#bd3786"
             ],
             [
              0.5555555555555556,
              "#d8576b"
             ],
             [
              0.6666666666666666,
              "#ed7953"
             ],
             [
              0.7777777777777778,
              "#fb9f3a"
             ],
             [
              0.8888888888888888,
              "#fdca26"
             ],
             [
              1,
              "#f0f921"
             ]
            ],
            "type": "histogram2d"
           }
          ],
          "histogram2dcontour": [
           {
            "colorbar": {
             "outlinewidth": 0,
             "ticks": ""
            },
            "colorscale": [
             [
              0,
              "#0d0887"
             ],
             [
              0.1111111111111111,
              "#46039f"
             ],
             [
              0.2222222222222222,
              "#7201a8"
             ],
             [
              0.3333333333333333,
              "#9c179e"
             ],
             [
              0.4444444444444444,
              "#bd3786"
             ],
             [
              0.5555555555555556,
              "#d8576b"
             ],
             [
              0.6666666666666666,
              "#ed7953"
             ],
             [
              0.7777777777777778,
              "#fb9f3a"
             ],
             [
              0.8888888888888888,
              "#fdca26"
             ],
             [
              1,
              "#f0f921"
             ]
            ],
            "type": "histogram2dcontour"
           }
          ],
          "mesh3d": [
           {
            "colorbar": {
             "outlinewidth": 0,
             "ticks": ""
            },
            "type": "mesh3d"
           }
          ],
          "parcoords": [
           {
            "line": {
             "colorbar": {
              "outlinewidth": 0,
              "ticks": ""
             }
            },
            "type": "parcoords"
           }
          ],
          "pie": [
           {
            "automargin": true,
            "type": "pie"
           }
          ],
          "scatter": [
           {
            "fillpattern": {
             "fillmode": "overlay",
             "size": 10,
             "solidity": 0.2
            },
            "type": "scatter"
           }
          ],
          "scatter3d": [
           {
            "line": {
             "colorbar": {
              "outlinewidth": 0,
              "ticks": ""
             }
            },
            "marker": {
             "colorbar": {
              "outlinewidth": 0,
              "ticks": ""
             }
            },
            "type": "scatter3d"
           }
          ],
          "scattercarpet": [
           {
            "marker": {
             "colorbar": {
              "outlinewidth": 0,
              "ticks": ""
             }
            },
            "type": "scattercarpet"
           }
          ],
          "scattergeo": [
           {
            "marker": {
             "colorbar": {
              "outlinewidth": 0,
              "ticks": ""
             }
            },
            "type": "scattergeo"
           }
          ],
          "scattergl": [
           {
            "marker": {
             "colorbar": {
              "outlinewidth": 0,
              "ticks": ""
             }
            },
            "type": "scattergl"
           }
          ],
          "scattermapbox": [
           {
            "marker": {
             "colorbar": {
              "outlinewidth": 0,
              "ticks": ""
             }
            },
            "type": "scattermapbox"
           }
          ],
          "scatterpolar": [
           {
            "marker": {
             "colorbar": {
              "outlinewidth": 0,
              "ticks": ""
             }
            },
            "type": "scatterpolar"
           }
          ],
          "scatterpolargl": [
           {
            "marker": {
             "colorbar": {
              "outlinewidth": 0,
              "ticks": ""
             }
            },
            "type": "scatterpolargl"
           }
          ],
          "scatterternary": [
           {
            "marker": {
             "colorbar": {
              "outlinewidth": 0,
              "ticks": ""
             }
            },
            "type": "scatterternary"
           }
          ],
          "surface": [
           {
            "colorbar": {
             "outlinewidth": 0,
             "ticks": ""
            },
            "colorscale": [
             [
              0,
              "#0d0887"
             ],
             [
              0.1111111111111111,
              "#46039f"
             ],
             [
              0.2222222222222222,
              "#7201a8"
             ],
             [
              0.3333333333333333,
              "#9c179e"
             ],
             [
              0.4444444444444444,
              "#bd3786"
             ],
             [
              0.5555555555555556,
              "#d8576b"
             ],
             [
              0.6666666666666666,
              "#ed7953"
             ],
             [
              0.7777777777777778,
              "#fb9f3a"
             ],
             [
              0.8888888888888888,
              "#fdca26"
             ],
             [
              1,
              "#f0f921"
             ]
            ],
            "type": "surface"
           }
          ],
          "table": [
           {
            "cells": {
             "fill": {
              "color": "#EBF0F8"
             },
             "line": {
              "color": "white"
             }
            },
            "header": {
             "fill": {
              "color": "#C8D4E3"
             },
             "line": {
              "color": "white"
             }
            },
            "type": "table"
           }
          ]
         },
         "layout": {
          "annotationdefaults": {
           "arrowcolor": "#2a3f5f",
           "arrowhead": 0,
           "arrowwidth": 1
          },
          "autotypenumbers": "strict",
          "coloraxis": {
           "colorbar": {
            "outlinewidth": 0,
            "ticks": ""
           }
          },
          "colorscale": {
           "diverging": [
            [
             0,
             "#8e0152"
            ],
            [
             0.1,
             "#c51b7d"
            ],
            [
             0.2,
             "#de77ae"
            ],
            [
             0.3,
             "#f1b6da"
            ],
            [
             0.4,
             "#fde0ef"
            ],
            [
             0.5,
             "#f7f7f7"
            ],
            [
             0.6,
             "#e6f5d0"
            ],
            [
             0.7,
             "#b8e186"
            ],
            [
             0.8,
             "#7fbc41"
            ],
            [
             0.9,
             "#4d9221"
            ],
            [
             1,
             "#276419"
            ]
           ],
           "sequential": [
            [
             0,
             "#0d0887"
            ],
            [
             0.1111111111111111,
             "#46039f"
            ],
            [
             0.2222222222222222,
             "#7201a8"
            ],
            [
             0.3333333333333333,
             "#9c179e"
            ],
            [
             0.4444444444444444,
             "#bd3786"
            ],
            [
             0.5555555555555556,
             "#d8576b"
            ],
            [
             0.6666666666666666,
             "#ed7953"
            ],
            [
             0.7777777777777778,
             "#fb9f3a"
            ],
            [
             0.8888888888888888,
             "#fdca26"
            ],
            [
             1,
             "#f0f921"
            ]
           ],
           "sequentialminus": [
            [
             0,
             "#0d0887"
            ],
            [
             0.1111111111111111,
             "#46039f"
            ],
            [
             0.2222222222222222,
             "#7201a8"
            ],
            [
             0.3333333333333333,
             "#9c179e"
            ],
            [
             0.4444444444444444,
             "#bd3786"
            ],
            [
             0.5555555555555556,
             "#d8576b"
            ],
            [
             0.6666666666666666,
             "#ed7953"
            ],
            [
             0.7777777777777778,
             "#fb9f3a"
            ],
            [
             0.8888888888888888,
             "#fdca26"
            ],
            [
             1,
             "#f0f921"
            ]
           ]
          },
          "colorway": [
           "#636efa",
           "#EF553B",
           "#00cc96",
           "#ab63fa",
           "#FFA15A",
           "#19d3f3",
           "#FF6692",
           "#B6E880",
           "#FF97FF",
           "#FECB52"
          ],
          "font": {
           "color": "#2a3f5f"
          },
          "geo": {
           "bgcolor": "white",
           "lakecolor": "white",
           "landcolor": "#E5ECF6",
           "showlakes": true,
           "showland": true,
           "subunitcolor": "white"
          },
          "hoverlabel": {
           "align": "left"
          },
          "hovermode": "closest",
          "mapbox": {
           "style": "light"
          },
          "paper_bgcolor": "white",
          "plot_bgcolor": "#E5ECF6",
          "polar": {
           "angularaxis": {
            "gridcolor": "white",
            "linecolor": "white",
            "ticks": ""
           },
           "bgcolor": "#E5ECF6",
           "radialaxis": {
            "gridcolor": "white",
            "linecolor": "white",
            "ticks": ""
           }
          },
          "scene": {
           "xaxis": {
            "backgroundcolor": "#E5ECF6",
            "gridcolor": "white",
            "gridwidth": 2,
            "linecolor": "white",
            "showbackground": true,
            "ticks": "",
            "zerolinecolor": "white"
           },
           "yaxis": {
            "backgroundcolor": "#E5ECF6",
            "gridcolor": "white",
            "gridwidth": 2,
            "linecolor": "white",
            "showbackground": true,
            "ticks": "",
            "zerolinecolor": "white"
           },
           "zaxis": {
            "backgroundcolor": "#E5ECF6",
            "gridcolor": "white",
            "gridwidth": 2,
            "linecolor": "white",
            "showbackground": true,
            "ticks": "",
            "zerolinecolor": "white"
           }
          },
          "shapedefaults": {
           "line": {
            "color": "#2a3f5f"
           }
          },
          "ternary": {
           "aaxis": {
            "gridcolor": "white",
            "linecolor": "white",
            "ticks": ""
           },
           "baxis": {
            "gridcolor": "white",
            "linecolor": "white",
            "ticks": ""
           },
           "bgcolor": "#E5ECF6",
           "caxis": {
            "gridcolor": "white",
            "linecolor": "white",
            "ticks": ""
           }
          },
          "title": {
           "x": 0.05
          },
          "xaxis": {
           "automargin": true,
           "gridcolor": "white",
           "linecolor": "white",
           "ticks": "",
           "title": {
            "standoff": 15
           },
           "zerolinecolor": "white",
           "zerolinewidth": 2
          },
          "yaxis": {
           "automargin": true,
           "gridcolor": "white",
           "linecolor": "white",
           "ticks": "",
           "title": {
            "standoff": 15
           },
           "zerolinecolor": "white",
           "zerolinewidth": 2
          }
         }
        },
        "xaxis": {
         "anchor": "y",
         "domain": [
          0,
          1
         ],
         "title": {
          "text": "Epoch"
         }
        },
        "yaxis": {
         "anchor": "x",
         "domain": [
          0,
          1
         ],
         "title": {
          "text": "Loss"
         }
        }
       }
      }
     },
     "metadata": {},
     "output_type": "display_data"
    }
   ],
   "source": [
    "# Initialize model\n",
    "model = LineGrid(n=n, d=2)  # d=2 as we are regressing both sin and cos\n",
    "\n",
    "# Initialize the built-in Mean-Squared Error loss function\n",
    "mse = nn.MSELoss()\n",
    "\n",
    "# Create a callback that saves loss to a dataframe\n",
    "loss_data = pd.DataFrame(columns=['Epoch', 'Loss'])\n",
    "def record_loss(epoch, model):\n",
    "    loss_data.loc[len(loss_data)] = [epoch, mse(model(x_samples), y_samples).item()]\n",
    "            \n",
    "# Run the training loop\n",
    "train_sgd(model, dataset, loss_fn=mse, callback=record_loss)\n",
    "px.line(loss_data, x='Epoch', y='Loss')"
   ]
  },
  {
   "cell_type": "markdown",
   "metadata": {},
   "source": [
    "Note that we converged *much* faster in this case: in just 30 iterations we reached the same low loss as with 300 iterations before. The answer is because with 250 training samples and mini-batches of size 25, each epoch adjusts the model's parameters 10 times. This effectively boosts the learning rate by a factor of 10. However, note that because each mini-batch looks at only one 10th of the dataset, each mini-batch's adjustment could *adversely* affect the performance on the other training samples."
   ]
  },
  {
   "cell_type": "markdown",
   "metadata": {},
   "source": [
    "## Validation and Testing\n",
    "\n",
    "In practice, validation and test datasets are used to evaluate the performance of a model. The validation dataset is used to tune the hyperparameters of a model, while the test dataset is used to evaluate the performance of the model on unseen data. "
   ]
  }
 ],
 "metadata": {
  "colab": {
   "collapsed_sections": [],
   "include_colab_link": true,
   "name": "S56_diffdrive_learning.ipynb",
   "provenance": []
  },
  "interpreter": {
   "hash": "c6e4e9f98eb68ad3b7c296f83d20e6de614cb42e90992a65aa266555a3137d0d"
  },
  "kernelspec": {
   "display_name": "Python 3.9.6 64-bit ('base': conda)",
   "name": "python3"
  },
  "language_info": {
   "codemirror_mode": {
    "name": "ipython",
    "version": 3
   },
   "file_extension": ".py",
   "mimetype": "text/x-python",
   "name": "python",
   "nbconvert_exporter": "python",
   "pygments_lexer": "ipython3",
   "version": "3.9.18"
  },
  "latex_metadata": {
   "affiliation": "Georgia Institute of Technology",
   "author": "Frank Dellaert and Seth Hutchinson",
   "title": "Introduction to Robotics"
  }
 },
 "nbformat": 4,
 "nbformat_minor": 2
}
