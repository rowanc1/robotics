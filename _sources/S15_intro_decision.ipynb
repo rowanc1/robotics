{
 "cells": [
  {
   "cell_type": "code",
   "execution_count": null,
   "metadata": {
    "tags": [
     "remove-cell"
    ]
   },
   "outputs": [],
   "source": [
    "%pip install -q -U gtbook\n"
   ]
  },
  {
   "attachments": {},
   "cell_type": "markdown",
   "metadata": {},
   "source": [
    "# Planning\n",
    "\n",
    "> Planning is the process of determining which actions to execute in order to effect desired changes in the world.\n",
    "\n",
    "<img src=\"Figures1/S15-Robot_menagerie-02.jpg\" alt=\"Splash image with robot thinking deeply\" width=\"40%\" align=center style=\"vertical-align:middle;margin:10px 0px\">"
   ]
  },
  {
   "cell_type": "markdown",
   "metadata": {},
   "source": [
    "Planning can mean very different things, depending on the complexity of the task, the time scale for actions,\n",
    "the uncertainty involved, and the complexity of the robot itself.\n",
    "For simple tasks that can be characterized at a fairly high level of abstraction, symbolic descriptions\n",
    "can be used, and planning can often be reduced to either a decision-theoretic problem,\n",
    "or to a graph search problem. This is the case, for our trash sorting robot, for which\n",
    "planning reduces to making individual decisions about which bin is appropriate for a piece of trash.\n",
    "When the dynamics of the task are important (as is the case, for example, with a drone),\n",
    "planning must take into account the dynamic equations of the system.\n",
    "If uncertainty is involved, it is impossible to provide deterministic performance guarantees,\n",
    "and planning requires dealing with probabilistic outcomes.\n",
    "We will consider each of these cases in this book."
   ]
  },
  {
   "cell_type": "markdown",
   "metadata": {},
   "source": [
    "\n",
    "## Task Planning\n",
    "\n",
    "Task planning treats problems at a fairly high level of abstraction, ignoring details such\n",
    "as the geometry of the environment, the specific path traversed by the robot,\n",
    "and any consideration of dynamics (e.g., for drones that depend on aerodynamic properties to stay aloft).\n",
    "Actions in a task plan are typically described in high-level, symbolic terms,\n",
    "such as *move the piece of trash to the paper bin* or *go to the kitchen*.\n",
    "A task planner makes its decisions by considering the effects of actions at this high level.\n",
    "A task planner might consider costs associated to placing a piece of trash in the wrong bin,\n",
    "or probabilities associated to arriving to the correct room,\n",
    "but it will not consider details such as how to grasp the item of trash\n",
    "or what should be the motor torques\n",
    "on the wheels of a robot to move it from the living room to the kitchen.\n",
    "\n",
    "Task planning is useful when either (a) the robot has a set of basic skills, sometimes called *primitives*\n",
    "or *motion primitives* that can be executed reliably, and therefore need not be planned, or (b) when the task planner is integrated into an overall system that incorporates motion planning (this integrated problem\n",
    "is sometimes called *TAMP*, for Task And Motion Planning). In this class, we will see examples of the former\n",
    "for both the trash sorting robot and the vacuum cleaning robot.\n"
   ]
  },
  {
   "cell_type": "markdown",
   "metadata": {},
   "source": [
    "## Path Planning\n",
    "\n",
    "Path planning deals with the problem of moving the robot from one position to another.  Avoiding collisions with obstacles in the environment (including humans and other robots) is generally a central concern for path planners.\n",
    "\n",
    "An easy way to address this problem is to discretize the world into a grid and then label grid cells as either being free\n",
    "or as containing an obstacle. The path planning problem is then to find a sequence of free grid cells such that the initial robot position is contained in the starting cell and the goal position is contained in the final cell. The disadvantage to this approach is that the representation of free space is conservative (if a cell is partially blocked by an obstacle, then the entire cell will be treated as an obstacle and therefore be unavailable to the robot); there may be cases for which a collision-free path exists in the world, but not in the grid. In such cases, the robot will be unable to find a free path, even though it exists.\n",
    "\n",
    "For many tasks, grid-based approximations are not sufficiently accurate. Consider, for example, the task of parallel parking an autonomous car.  Here, there are constraints on the car's motion (the car cannot move sideways), and the free space available may be only slightly larger than the car's footprint. Both of these complications add to the complexity of the path planning problem, demanding more sophisticated solution techniques.\n",
    "\n",
    "For the problem of planning a collision-free path for a robot that can move in arbitrary directions, there exist exact algorithms that are guaranteed to find a solution when one exists, or to terminate in finite time (these algorithms are called *complete* algorithms). Unfortunately, even the fastest of these algorithms has computational complexity that increases exponentially with the number of degrees of freedom of the robot (in addition to being extremely difficult to implement). For this reason, much research in path planning has focused on computationally efficient algorithms that perform well in practice, even though deterministic performance guarantees are not available.  Randomized, sampling-based algorithms are the most popular of these, and we will see such an algorithms later in the book."
   ]
  },
  {
   "cell_type": "markdown",
   "metadata": {},
   "source": [
    "## Trajectory Planning\n",
    "\n",
    "While path planning considers the \"shape\" of the path from start to goal (e.g., a car that has a map of the road), trajectory planning also considers the time parameterization of that path (how fast the car traverses the road). This aspect of planning becomes important when the robot has interesting dynamics. Consider, for example, a bipedal robot executing a running gait. There are some speeds for which the robot will run without difficulty. But if the robot slows down too much, it will fall mid-stride. This is because running gaits involve phases during which neither foot is in contact with the ground, and the robot relies on its momentum to carry it forward.  If the robot tries to run too slowly, there will not be sufficient momentum to arrive at the next footfall on schedule, and the robot will likely fall. (Try running in slow motion to convince yourself, but take care!)\n",
    "\n",
    "In this book, dynamic effects will be most pronounced for the drone robot. Aerodynamics can be computationally difficult (to achieve ultimate accuracy requires solving systems of partial differential equations), so we will use approximation algorithms (numerical approximations for the aerodynamic effects) together with sampling-based algorithms to construct optimal trajectories for drones."
   ]
  },
  {
   "cell_type": "markdown",
   "metadata": {},
   "source": [
    "## Dealing with Uncertainty\n",
    "\n",
    "In real-world applications, robot's never know precisely where they are or precisely what will\n",
    "be the results of their actions.\n",
    "In some cases, uncertainties can be ignored during planning, if, for example, the uncertainties\n",
    "are small relative to task requirements, or if feedback control can be used to account for uncertainties\n",
    "during task execution. This is the case, for example, with our trash sorting robot, whose actions are assumed to be flawless. This is not so unreasonable, since the actions themselves are not so difficult, and the robot's environment is very structured and static.\n",
    "\n",
    "When uncertainties cannot be neglected, we often use probability theory to model the uncertainties, and to form\n",
    "a basis for probabilistic inference about the state of the world and the effects of the robot's actions.\n",
    "If we assign costs to individual outcomes, we can choose actions that minimize the average cost over\n",
    "long time horizons. \n",
    "For example, if the cost of collision with an obstacle is small (as is the case for a vacuuming robot),\n",
    "a planner might choose an aggressive strategy that minimizes the time to complete the task.\n",
    "If the cost of collision is high (e.g., a self-driving car sharing streets with cyclists and pedestrians),\n",
    "a planner might choose a much more conservative strategy, optimizing for safety rather than time of arrival.\n",
    "\n",
    "In this book, we will consider the effects of uncertainty\n",
    "in sensing (e.g., our trash sorting robot, whose actions are deterministic, but whose\n",
    "knowledge of the world state is obtained via inference using noisy sensor data),\n",
    "as well as uncertainty in actions (e.g., the vacuuming robot, which occasionally arrives to the wrong destination).\n",
    "We will develop a simple decision-theoretic approach to choosing individual actions for the former,\n",
    "but will require more sophisticated methods (Markov Decision Processes) for the latter.\n",
    "Choosing the appropriate tool for the problem at hand is a key skill required for computational robotic."
   ]
  }
 ],
 "metadata": {
  "kernelspec": {
   "display_name": "Python 3",
   "language": "python",
   "name": "python3"
  },
  "language_info": {
   "codemirror_mode": {
    "name": "ipython",
    "version": 3
   },
   "file_extension": ".py",
   "mimetype": "text/x-python",
   "name": "python",
   "nbconvert_exporter": "python",
   "pygments_lexer": "ipython3",
   "version": "3.9.12"
  },
  "latex_metadata": {
   "affiliation": "Georgia Institute of Technology",
   "author": "Frank Dellaert and Seth Hutchinson",
   "title": "Introduction to Robotics"
  },
  "vscode": {
   "interpreter": {
    "hash": "b0fa6594d8f4cbf19f97940f81e996739fb7646882a419484c72d19e05852a7e"
   }
  }
 },
 "nbformat": 4,
 "nbformat_minor": 2
}
