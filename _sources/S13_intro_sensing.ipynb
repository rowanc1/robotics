{
 "cells": [
  {
   "cell_type": "code",
   "execution_count": null,
   "metadata": {
    "tags": [
     "remove-cell"
    ]
   },
   "outputs": [],
   "source": [
    "%pip install -q -U gtbook\n"
   ]
  },
  {
   "attachments": {},
   "cell_type": "markdown",
   "metadata": {},
   "source": [
    "# Sensing\n",
    "\n",
    "> Actions allow the robot to affect the world. Sensors allow the robot to perceive the world.\n",
    "\n",
    "<img src=\"Figures1/S13-Robot_menagerie-05.jpg\" alt=\"Splash image with robot full of sensor-like things\" width=\"40%\" align=center style=\"vertical-align:middle;margin:10px 0px\">"
   ]
  },
  {
   "cell_type": "markdown",
   "metadata": {},
   "source": [
    "A robot's sensors provide information that can be used to infer things about the world, about the robot, and about the robot's\n",
    "location in the world.\n",
    "Sensors can provide simple information (e.g., a simple collision sensor on a vacuuming robot), or rich, highly complex data\n",
    "(e.g., an RGB-D camera, which provides a color image along with a depth estimate for each pixel). \n",
    "In the ideal case, the sensing process can be modeled using the laws of physics (e.g., how light reflects off\n",
    "of object surfaces), or sometimes simple geometry (e.g., stereo vision relies uses simple triangulation to determine the\n",
    "the distance to an object).\n",
    "\n",
    "Sensors, of course, are not perfect, and each type of sensor has its own specific type of uncertainty.\n",
    "This uncertainty is typically characterized using models that describe the probability\n",
    "of a particular measurement given that certain physical conditions occur. These conditional probabilities\n",
    "are typically called observation models.\n",
    "As will be described in the next section, these observation models, along with the sensor values,\n",
    "can be used for inference about the world, which defines perception.\n",
    "\n",
    "In this book we will consider a variety of sensors, with observation models that range from\n",
    "simple to fairly complex.\n",
    "The simplest sensor models are deterministic (i.e., given the state of the world, we can determine\n",
    "with no uncertainty what the sensor readings will be).\n",
    "More complex models use probability distributions to characterize\n",
    "the relationship between the world state and the sensor readings.\n",
    "For example, a range sensor might give back a value $z = z^* + w$, in which  $z^*$ is the physical distance\n",
    "to an object, and $w$ denotes a noise variable that might be described by a Gaussian probability distribution."
   ]
  }
 ],
 "metadata": {
  "kernelspec": {
   "display_name": "Python 3",
   "language": "python",
   "name": "python3"
  },
  "language_info": {
   "codemirror_mode": {
    "name": "ipython",
    "version": 3
   },
   "file_extension": ".py",
   "mimetype": "text/x-python",
   "name": "python",
   "nbconvert_exporter": "python",
   "pygments_lexer": "ipython3",
   "version": "3.9.12"
  },
  "latex_metadata": {
   "affiliation": "Georgia Institute of Technology",
   "author": "Frank Dellaert and Seth Hutchinson",
   "title": "Introduction to Robotics"
  },
  "vscode": {
   "interpreter": {
    "hash": "b0fa6594d8f4cbf19f97940f81e996739fb7646882a419484c72d19e05852a7e"
   }
  }
 },
 "nbformat": 4,
 "nbformat_minor": 2
}
