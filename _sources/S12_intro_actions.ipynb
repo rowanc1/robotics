{
 "cells": [
  {
   "cell_type": "markdown",
   "id": "2ca949af",
   "metadata": {
    "colab_type": "text",
    "id": "view-in-github",
    "tags": [
     "no-tex"
    ]
   },
   "source": [
    "<a href=\"https://colab.research.google.com/github/gtbook/robotics/blob/main/S12_intro_actions.ipynb\" target=\"_parent\"><img src=\"https://colab.research.google.com/assets/colab-badge.svg\" alt=\"Open In Colab\"/></a>"
   ]
  },
  {
   "cell_type": "code",
   "execution_count": null,
   "id": "0dc2c993",
   "metadata": {
    "tags": [
     "remove-cell"
    ]
   },
   "outputs": [],
   "source": [
    "%pip install -q -U gtbook\n"
   ]
  },
  {
   "attachments": {},
   "cell_type": "markdown",
   "id": "c202b3d7",
   "metadata": {
    "id": "Ow_ar2AAFHi0"
   },
   "source": [
    "# Robot Actions\n",
    "\n",
    "> By executing actions, robots change the state of the world, as well as their own state.\n",
    "\n",
    "<img src=\"Figures1/S12-Robot_menagerie-03.jpg\" alt=\"Splash image with thinking robot\" width=\"40%\" align=center style=\"vertical-align:middle;margin:10px 0px\">"
   ]
  },
  {
   "cell_type": "markdown",
   "id": "Ow_ar2AAFHi0",
   "metadata": {
    "id": "Ow_ar2AAFHi0"
   },
   "source": [
    "Robots are of interest to us because they have the ability to move in\n",
    "their environment, manipulate objects, and generally effect changes in\n",
    "the world state. In order for a robot to plan actions that achieve its\n",
    "goals, it must have a representation of its own actions, along with a\n",
    "characterization of how those actions affect the state of the world. The\n",
    "specific choice of representation depends on the task at hand, and the\n",
    "level of abstraction at which the task is represented."
   ]
  },
  {
   "cell_type": "markdown",
   "id": "079f6942",
   "metadata": {},
   "source": [
    "## Symbolic Task-Level Actions\n",
    "\n",
    "For high-level, task planning, it is often sufficient to use a\n",
    "high-level, symbolic representation scheme such as that described above for the\n",
    "STRIPS style planners. In this case, the representation of an action\n",
    "includes a set of conditions that must be true for the action to be\n",
    "applicable, and a set of changes that will result if the action is\n",
    "executed. \n",
    "Consider the example of Figure\n",
    "<a href=\"#fig:blocks-world\" data-reference-type=\"ref\" data-reference=\"fig:blocks-world\">1</a>.\n",
    "We can define an action that causes the robot to grasp a block that is\n",
    "resting on another block as follows:\n",
    "\n",
    "**Action**: *UNSTACK(?X, ?Y)*  \n",
    "**Preconditions**: On(?X, ?Y)  \n",
    "**Delete**: On(?X, ?Y)  \n",
    "**Add**: InGripper(?X), Free(?Y)\n",
    "\n",
    "In this example, the symbols *?X* and *?Y* denote variables that are\n",
    "instantiated based on which objects are the target of the desired\n",
    "action. The *preconditions* provide a set of conditions that must hold\n",
    "in the world state in order for this action to be valid. The *add* and\n",
    "*delete* lists specify the changes to the world state that will occur\n",
    "once the action is applied.\n",
    "This style of action representation is popular for domains in which high-level descriptions\n",
    "of problems and plans suffice,\n",
    "and AI planning researchers have developed the\n",
    "*Planning Domain Definition Language (PDDL)* \n",
    "as a standard language for expressing such problems\n",
    "(though, by now, many variations for this standard already exist).\n"
   ]
  },
  {
   "cell_type": "markdown",
   "id": "28d1f807",
   "metadata": {},
   "source": [
    "## Discrete Time Systems\n",
    "\n",
    "As might be expected, for each of the kinds of state representation\n",
    "described above, there is a corresponding action representation. For the\n",
    "case of a robot that moves in a grid (as in Figure\n",
    "<a href=\"#fig:chap1-occupancy-grid\" data-reference-type=\"ref\" data-reference=\"fig:chap1-occupancy-grid\">3</a>),\n",
    "we might denote the robot state at time $t$ as $x_t = (r_t,c_t)$, in\n",
    "which $r,c$ denote a row and column index into the grid. We could\n",
    "specify a unique action for each of the four possible directions of\n",
    "motion in the grid, but it is more convenient in this case to define\n",
    "actions to be a function of a control input, as $x_{t+1} = f(x_t, u_t)$,\n",
    "in which $u_t$ denotes the control action that is applied at time $t$.\n",
    "Here there are four possible choices for $u$, corresponding to moving\n",
    "up, down, left, or right. For example, when moving to the left, we would\n",
    "have\n",
    "\n",
    "$$x_{t+1} = \\left[\\begin{array}{c}r_{t+1} \\\\ c_{t+1}\\end{array}\\right] \n",
    " = f(x_t, \\mathrm{left})\n",
    "        = \\left[\\begin{array}{c}r_{t} \\\\ c_{t} - 1 \\end{array}\\right]$$\n",
    "\n",
    "For systems described as $x_{t+1} = f(x_t, u_t)$, the control input $u$\n",
    "provides the connection between planning and acting. Planning can be\n",
    "characterized as the search for a set of control inputs\n",
    "$u_1, u_2, \\dots$ that will transform the world (including the robot\n",
    "itself) from its initial state into the desired goal state. For\n",
    "discrete-time systems that are represented using discrete states, this\n",
    "can often be accomplished using various graph search algorithms,\n",
    "such as the A* algorithm."
   ]
  },
  {
   "cell_type": "markdown",
   "id": "da58f654",
   "metadata": {},
   "source": [
    "## Continuous Time Systems\n",
    "\n",
    "For the case of continuous time robot systems that evolve on continuous\n",
    "state spaces, we typically write the dynamic equations of motion as\n",
    "$\\dot{x}(t) = f(x,u)$ in which $x(t) = (q(t), \\dot{q}(t))$ and\n",
    "$\\dot{x}(t) = (\\dot{q}(t), \\ddot{q}(t))$ and $u$ denotes a control\n",
    "input. The system dynamics for different robots take a variety of\n",
    "special forms. For example, a linear systems whose behavior does not\n",
    "vary with time (so called *linear, time-invariant* or *LTI* systems) can\n",
    "be written as \n",
    "\n",
    "$$\\dot{x}(t) = Ax(t) + B u(t)$$\n",
    "\n",
    " This is the most basic\n",
    "kind of continuous time dynamical system, yet such systems can often be\n",
    "used to provide reasonably good approximations to even fairly complex\n",
    "nonlinear systems.\n",
    "\n",
    "Finding a suitable control input $u(t)$ to drive an arbitrary nonlinear\n",
    "system to its goal state can be a very difficult problem. One way to\n",
    "solve this problem is to discretize the system, and use numerical\n",
    "optimization methods to find a discrete-time control law that will\n",
    "achieve the goal. We discuss these issues, along with other specific\n",
    "forms of system dynamics for a variety of robot systems in subsequent\n",
    "chapters."
   ]
  },
  {
   "cell_type": "markdown",
   "id": "101f6676",
   "metadata": {},
   "source": [
    "## Characteristics of Robot Actions\n",
    "\n",
    "All of the above action representations share a few common characteristics.\n",
    "\n",
    "First, actions have local effects, both spatially and temporally.\n",
    "Actions are executed *here* and *now* and their effects are immediate.\n",
    "This is perhaps most obvious for continuous time systems, in which actions affect the\n",
    "time derivative of the system trajectory. \n",
    "This local nature of actions brings a significant computational benefit.\n",
    "Planners need not worry about the entire state of the world over the entire time history\n",
    "of execution. Rather, planners can focus on building plans one step at a time,\n",
    "constructing a sequence of local changes that ultimately bring about the desired world\n",
    "state.\n",
    "Furthermore, this local property allows us to simplify the descriptions of\n",
    "actions, including only those aspects of the world that spatially relevant.\n",
    "Note, for example, that the precondition for picking up a block depends\n",
    "only on what is immediately on top of the block, not on the arrangement of other\n",
    "blocks that might be on the table.\n",
    "\n",
    "A second characteristic of the actions described above is that the do not include any consideration\n",
    "of uncertainty.\n",
    "In real-world robotics problems, the robot rarely knows the exact state of the world,\n",
    "and it cannot predict with certainty the effects of its own actions on the world.\n",
    "To cope with such uncertainties, we often use probability theory to model the effects\n",
    "of actions.\n",
    "For example, if the action is to move one space to the left in a grid, we might model\n",
    "the action as\n",
    "\n",
    "$$ f(x_t, \\mathrm{left})\n",
    "        = \\left[\\begin{array}{c}r_{t} \\\\ c_{t} - 1 + w_t \\end{array}\\right]$$\n",
    "\n",
    "in which $w_t$ represents an unknown disturbance.  If we can say something about\n",
    "the probability distribution for $w_t$, for example that $w_t \\in \\{ -1, 0 , 1\\}$ and\n",
    "that all outcomes are equally probably, \n",
    "then\n",
    "we can use probability theory to reason about which actions to apply to maximize\n",
    "the probability of successful execution.\n"
   ]
  }
 ],
 "metadata": {
  "colab": {
   "include_colab_link": true,
   "name": "S12_intro_actions.ipynb",
   "provenance": []
  },
  "kernelspec": {
   "display_name": "Python 3",
   "language": "python",
   "name": "python3"
  },
  "language_info": {
   "codemirror_mode": {
    "name": "ipython",
    "version": 3
   },
   "file_extension": ".py",
   "mimetype": "text/x-python",
   "name": "python",
   "nbconvert_exporter": "python",
   "pygments_lexer": "ipython3",
   "version": "3.9.12"
  },
  "latex_metadata": {
   "affiliation": "Georgia Institute of Technology",
   "author": "Frank Dellaert and Seth Hutchinson",
   "title": "Introduction to Robotics"
  },
  "vscode": {
   "interpreter": {
    "hash": "b0fa6594d8f4cbf19f97940f81e996739fb7646882a419484c72d19e05852a7e"
   }
  }
 },
 "nbformat": 4,
 "nbformat_minor": 5
}
