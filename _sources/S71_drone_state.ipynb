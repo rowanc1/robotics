{
 "cells": [
  {
   "cell_type": "markdown",
   "metadata": {
    "colab_type": "text",
    "id": "view-in-github",
    "tags": [
     "no-tex"
    ]
   },
   "source": [
    "<a href=\"https://colab.research.google.com/github/gtbook/robotics/blob/main/S71_drone_state.ipynb\" target=\"_parent\"><img src=\"https://colab.research.google.com/assets/colab-badge.svg\" alt=\"Open In Colab\"/></a>"
   ]
  },
  {
   "cell_type": "code",
   "execution_count": 1,
   "metadata": {
    "id": "JoW4C_OkOMhe",
    "tags": [
     "remove-cell"
    ]
   },
   "outputs": [
    {
     "name": "stdout",
     "output_type": "stream",
     "text": [
      "Note: you may need to restart the kernel to use updated packages.\n"
     ]
    }
   ],
   "source": [
    "%pip install -q -U gtbook\n"
   ]
  },
  {
   "cell_type": "code",
   "execution_count": 2,
   "metadata": {
    "id": "10-snNDwOSuC",
    "tags": [
     "remove-cell"
    ]
   },
   "outputs": [],
   "source": [
    "import math\n",
    "import numpy as np\n",
    "import gtsam\n"
   ]
  },
  {
   "attachments": {},
   "cell_type": "markdown",
   "metadata": {},
   "source": [
    "# Moving in Three Dimensions\n",
    "\n",
    "> Motion in 3D has 6 DOF.\n",
    "\n",
    "<img src=\"Figures7/S71-Autonomous_camera_drone-03.jpg\" alt=\"Splash image with steampunk drones in various orientations\" width=\"40%\" align=center style=\"vertical-align:middle;margin:10px 0px\">"
   ]
  },
  {
   "cell_type": "markdown",
   "metadata": {},
   "source": [
    "In Section 6.1 we introduced the space of 2D rigid transformations $SE(2)$, and showed how matrices can be used to represent both\n",
    "rotation and translation in two dimensions.\n",
    "At that time, we promised that this could be easily generalized to the case of rotation and\n",
    "translation in three dimensions.  In this section, we deliver on that promise, and introduce two new spaces:\n",
    "the 3D rotations $SO(3)$ and 3D rigid transformations $SE(3)$.\n",
    "\n",
    "In addition to representing the *pose* of a drone in 3D we are also interested in\n",
    "representing velocity.\n",
    "This includes the both the linear velocity of the drone, which corresponds to the velocity\n",
    "of the origin of the body-attached frame, as well as the rate of change in the orientation of the\n",
    "body-attached frame."
   ]
  },
  {
   "cell_type": "markdown",
   "id": "41fe8146",
   "metadata": {},
   "source": [
    "## Rotations in 3D aka SO(3)\n",
    "\n",
    "In Section 6.1, we constructed a rotation matrix $R^0_1 \\in SO(2)$\n",
    "by projecting the axes of Frame 1 onto Frame 0.\n",
    "The extension to 3D is indeed straightforward.\n",
    "Again, we merely project the axes of Frame 1 onto Frame 0,\n",
    "but in the 3D case, each frame is equipped with an additional $z$-axis:\n",
    "\n",
    "$$\n",
    "R_{1}^{0}\n",
    "=\\begin{bmatrix}\n",
    "x_1 \\cdot x_0 & y_1 \\cdot x_0 & z_1 \\cdot x_0 \\\\\n",
    "x_1 \\cdot y_0 & y_1 \\cdot y_0 & z_1 \\cdot y_0 \\\\\n",
    "x_1 \\cdot z_0 & y_1 \\cdot z_0 & z_1 \\cdot z_0 \\\\\n",
    "\\end{bmatrix}\n",
    "$$\n",
    "\n",
    "The expression for rotational coordinate transformations is now exactly the\n",
    "same as in Chapter 6.\n",
    "Given a point $p$ with coordinates expressed relative to the body-attached\n",
    "frame B, we compute its coordinates $p^s$ in the \"spatial\" frame $S$:\n",
    "\n",
    "$$\n",
    "p^s = R^s_b p^b\n",
    "$$\n",
    "\n",
    "Extending the semantics from 2D rotations in $SO(2)$ to 3D rotations represented by $SO(3)$,\n",
    "the columns\n",
    "of $R_{b}^{s}$ represent the axes of frame $B$ in the $S$ coordinate\n",
    "frame: \n",
    "\n",
    "$$\n",
    "R_{b}^{s}=\\left[\\begin{array}{ccc}\n",
    "\\hat{x}_{b}^{s} & \\hat{y}_{b}^{s} & \\hat{z}_{b}^{s}\\end{array}\\right]\n",
    "$$\n",
    "\n",
    "The 3D rotations together with composition constitute the **special\n",
    "orthogonal group** $SO(3)$, hence the abbreviation \"SO\". It is made up of all $3\\times3$ orthonormal\n",
    "matrices with determinant $+1$. This group has matrix multiplication as its\n",
    "composition operation, \n",
    "but unlike in 2D  *3D rotations do not commute*, i.e., in general $R_{2}R_{1}\\neq R_{1}R_{2}$.\n",
    "The group so obtained it is called \"special\" because of the +1 determinant. Orthonormal matrices have either a -1 or +1 determinant, but those with -1 are *reflections*, which we specifically exclude here."
   ]
  },
  {
   "cell_type": "markdown",
   "metadata": {},
   "source": [
    "It is often useful to refer to rotations about one of the coordinate axes.\n",
    "These basic rotation matrices are given by\n",
    "\n",
    "$$\n",
    "R_{x,\\phi}\n",
    "=\\begin{bmatrix}\n",
    "1 & 0 & 0 \\\\\n",
    "0 & \\cos \\phi & - \\sin \\phi \\\\\n",
    "0 & \\sin \\phi & \\cos \\phi \n",
    "\\end{bmatrix}\n",
    "~~~\n",
    "R_{y,\\theta}\n",
    "=\\begin{bmatrix}\n",
    "\\cos \\theta &      0   & \\sin \\theta \\\\\n",
    "0            &     1   &  0 \\\\\n",
    "-\\sin \\theta & 0       & \\cos \\theta\n",
    "\\end{bmatrix}\n",
    "~~~\n",
    "R_{z,\\psi}\n",
    "=\\begin{bmatrix}\n",
    "\\cos \\psi &-\\sin \\psi & 0 \\\\\n",
    "\\sin \\psi &\\cos \\psi & 0 \\\\\n",
    "0 & 0   &  1\n",
    "\\end{bmatrix}\n",
    "$$\n",
    "\n",
    "Note, in particular, the form of $R_{z,\\psi}$, the rotation about the $z$-axis.\n",
    "The upper-left $2\\times 2$ block of this matrix is exactly a rotation matrix $R \\in SO(2)$\n",
    "as introduced in Section 6.1.\n",
    "This can be understood by realizing that rotation in the $xy$ plane is actually\n",
    "a rotation about an implicit $z$- axis that points \"out of the page.\""
   ]
  },
  {
   "cell_type": "markdown",
   "id": "eede1a83",
   "metadata": {},
   "source": [
    "## 3D Rigid transforms aka SE(3)\n",
    "\n",
    "In a similar way we can extend the group of 2D rigid transforms $SE(2)$ to the case\n",
    "of rotation and translation in 3D.\n",
    "Suppose a point $p$ is rigidly attached to frame $B$, and\n",
    "we wish to determine its coordinates with respect to the reference frame $S$.\n",
    "If the coordinates of $p$ with respect to frame $B$ are given by $p^b$,\n",
    "then we can express it in frame $S$ as follows:\n",
    "\n",
    "$$\n",
    "p^{s}=R_{b}^{s}p^{b}+t_{b}^{s}\n",
    "$$ \n",
    "\n",
    "Above $R^s_b \\in SO(3)$ is the rotation matrix that specifies the orientation\n",
    "of frame $B$ w.r.t. frame $S$,\n",
    "and  $t^s_b \\in \\mathbb{R}^3$ gives the location of the origin\n",
    "of frame $B$ w.r.t. frame $S$ (specified in the coordinates of frame $S$).\n",
    "\n",
    "\n",
    "We denote this transform by\n",
    "$T_{b}^{s}\\doteq\\left(R_{b}^{s},\\,t_{b}^{s}\\right)$. These transforms $T_{b}^{s}$ are elements of\n",
    "the  **special Euclidean group** $SE(3)$. Similarly to the previous chapter we can view the \n",
    "group $SE(3)$ as a subgroup of the general linear group $GL(4)$ of degree 4, \n",
    "by embedding the rotation and translation into a $4\\times4$ invertible matrix defined as\n",
    "\n",
    "$$\n",
    "T_{b}^{s}=\\begin{bmatrix}\n",
    "R_{b}^{s} & t_{b}^{s}\\\\\n",
    "0 & 1\n",
    "\\end{bmatrix}.\n",
    "$$\n",
    "\n",
    "We can then implement the group operation as simple matrix multiplication.\n",
    "\n",
    "And, in analogy with the 2D case, by embedding 3D points in a four-vector, a\n",
    "3D rigid transform acting on a point can be implemented by matrix-vector\n",
    "multiplication:\n",
    "\n",
    "$$\n",
    "\\begin{bmatrix}\n",
    "R_{b}^{s} & t_{b}^{s}\\\\\n",
    "0 & 1\n",
    "\\end{bmatrix}\n",
    "\\begin{bmatrix}\n",
    "p^{b}\\\\\n",
    "1\n",
    "\\end{bmatrix}\n",
    "=\\begin{bmatrix}\n",
    "R_{b}^{s}p^{b}+t_{b}^{s}\\\\\n",
    "1\n",
    "\\end{bmatrix}\n",
    "$$"
   ]
  },
  {
   "cell_type": "markdown",
   "metadata": {},
   "source": [
    "## The Group $SE(3)$ in GTSAM\n",
    "\n",
    "> `Pose3` is a non-commutative group which acts on `Point3`.\n",
    "\n",
    "$SE(3)$ is a group, as the following properties all hold:\n",
    "\n",
    "1. **Closure**: For all transforms $T, T' \\in SE(3)$, their product is also in $SE(3)$, i.e., $T T' \\in SE(3)$.\n",
    "2. **Identity Element**: The $4\\times 4$ identity matrix $I$ is included in the group, and for\n",
    "all $T \\in SE(3)$ we have $T I = I T = T$.\n",
    "3. **Inverse**: For every $T \\in SE(3)$ there exists $T^{-1} \\in SE(3)$ such that $T^{-1}T = T T^{-1} = I$.\n",
    "4. **Associativity**: For all $T_1, T_2, T_3 \\in SE(3)$, $(T_1 T_2) T_3 = T_1 (T_2 T_3)$.\n",
    "\n",
    "3D rigid transforms do *not* commute. The inverse $T^{-1}$ is given by:\n",
    "\n",
    "$$\n",
    "T^{-1} = \\begin{bmatrix}R & d\\\\0_2 & 1\\end{bmatrix}^{-1}\n",
    " = \\begin{bmatrix}R^T & -R^T d\\\\0_2 & 1\\end{bmatrix}\n",
    "$$\n",
    "\n",
    "Again, all of this is built into GTSAM, where both 3D poses and 3D rigid transforms are represented by the type `Pose3`, with rotation matrices represented by `Rot3`:"
   ]
  },
  {
   "cell_type": "code",
   "execution_count": 4,
   "metadata": {},
   "outputs": [
    {
     "name": "stdout",
     "output_type": "stream",
     "text": [
      "3D Pose R: [\n",
      "\t-0.720878, -0.693062, 0;\n",
      "\t0.693062, -0.720878, 0;\n",
      "\t0, 0, 1\n",
      "]\n",
      "t: 1 2 3\n",
      " corresponding to transformation matrix:\n",
      "[[-0.72087779 -0.6930622   0.          1.        ]\n",
      " [ 0.6930622  -0.72087779  0.          2.        ]\n",
      " [ 0.          0.          1.          3.        ]\n",
      " [ 0.          0.          0.          1.        ]]\n"
     ]
    }
   ],
   "source": [
    "R = gtsam.Rot3.Yaw(math.degrees(20)) # rotation around Z-axis by 20 degrees\n",
    "T = gtsam.Pose3(R, [1,2,3])\n",
    "print(f\"3D Pose {T} corresponding to transformation matrix:\\n{T.matrix()}\")\n"
   ]
  },
  {
   "cell_type": "markdown",
   "metadata": {},
   "source": [
    "3D transforms form a *non-commutative* group, as demonstrated here in code:"
   ]
  },
  {
   "cell_type": "code",
   "execution_count": 5,
   "metadata": {},
   "outputs": [
    {
     "name": "stdout",
     "output_type": "stream",
     "text": [
      "True\n",
      "True\n",
      "True\n",
      "True\n",
      "False\n"
     ]
    }
   ],
   "source": [
    "print(isinstance(T * T, gtsam.Pose3)) # closure\n",
    "I = gtsam.Pose3.Identity()\n",
    "print(T.equals(T * I, 1e-9)) # identity\n",
    "print((T * T.inverse()).equals(I, 1e-9)) # inverse\n",
    "T1, T2, T3 = T, gtsam.Pose3(gtsam.Rot3.Roll(0.1), [1,2,3]), gtsam.Pose3(gtsam.Rot3.Roll(0.2), [1,2,3])\n",
    "print(((T1 * T2)* T3).equals(T1 * (T2 * T3), 1e-9)) # associative\n",
    "print((T1 * T2).equals(T2 * T1, 1e-9)) # NOT commutative\n"
   ]
  },
  {
   "cell_type": "markdown",
   "metadata": {},
   "source": [
    "Finally, 3D transforms can act on 3D points, which we can do using matrix multiplication, or using the `Pose3.transformFrom` method:"
   ]
  },
  {
   "cell_type": "code",
   "execution_count": 6,
   "metadata": {},
   "outputs": [
    {
     "name": "stdout",
     "output_type": "stream",
     "text": [
      "P0 = [-3.21400437  0.50261322  6.          1.        ]\n",
      "P0 = [-3.21400437  0.50261322  6.        ]\n"
     ]
    }
   ],
   "source": [
    "P1 = gtsam.Point3(2, 4, 3)\n",
    "print(f\"P0 = {T.matrix() @ [2, 4, 3, 1]}\")  # need to make P0 homogeneous\n",
    "print(f\"P0 = {T.transformFrom(P1)}\")\n"
   ]
  },
  {
   "cell_type": "markdown",
   "metadata": {},
   "source": [
    "You can see from the code snippet above that both approaches yield the same numerical values for the first three coordinates."
   ]
  },
  {
   "cell_type": "markdown",
   "metadata": {},
   "source": [
    "## Angular Velocity\n",
    "\n",
    "The linear velocity $v$ of the origin of a moving frame is easy to understand.\n",
    "This velocity is obtained merely by computing the derivative of the coordinate vector for the frame's origin.\n",
    "The derivative of orientation is more interesting.\n",
    "\n",
    "We begin by introducing the family of $3 \\times 3$ skew symmetric matrices, denoted by $\\mathfrak{so}(3)$. \n",
    "The relationship between $\\mathfrak{so}(3)$ and $SO(3)$ will become apparent shortly.\n",
    "A matrix $S$ is said to be a **skew symmetric matrix** if\n",
    "\n",
    "$$\n",
    "S + S^T = 0\n",
    "$$\n",
    "\n",
    "If we examine this equation for each element of $S$, we obtain nine equations, \n",
    "\n",
    "$$ s_{i,j} = - s_{j,i}, ~~~~ i,j = 1,2,3 $$\n",
    "\n",
    "When $i=j$, we have $s_{ii} = -s_{ii}$, which is satisfied only if $s_{ii} = 0$.\n",
    "Thus, the diagonal elements of a skew symmetric matrix are all zeros.\n",
    "The remaining equations constrain the off-diagonal entries, such that\n",
    "every $S \\in so(3)$ can be written as\n",
    "\n",
    "$$\n",
    "\\hat{s} = S =\n",
    "\\begin{bmatrix}\n",
    "0 & -s_z &s_y \\\\\n",
    "s_z & 0 & -s_x \\\\\n",
    "-s_y & s_x & 0\n",
    "\\end{bmatrix}\n",
    "$$\n",
    "\n",
    "Note that we define the **hat operator** $\\hat{\\cdot}$, which maps a vector $s = (s_x, s_y, s_z)$ to\n",
    "a skew symmetric matrix as above."
   ]
  },
  {
   "cell_type": "markdown",
   "metadata": {},
   "source": [
    "Skew symmetric matrices play a key role in representing the angular rate of change of coordinate frames.\n",
    "Let $R(t)$ be a time-varying rotation matrix.\n",
    "Because $R(t) \\in SO(3)$, at each time $t$ we have $R^T(t) R(t) = I$.\n",
    "If we differentiate both sides of this equation, we obtain\n",
    "\n",
    "$$\n",
    "\\begin{aligned}\n",
    "\\frac{d}{dt} \\left[ R^T(t) R(t) \\right] &= \\frac{d}{dt} I  \\\\\n",
    "     \\dot{R}^T R + R^T \\dot{R} &= 0\n",
    "\\end{aligned}\n",
    "$$\n",
    "\n",
    "In other words, $R^T \\dot{R} = - \\dot{R}^T R$ and hence the matrix $R^T \\dot{R}$ *is a skew symmetric matrix*\n",
    "\n",
    "$$R^T \\dot{R} = \\hat{\\omega}$$ \n",
    "\n",
    "with $\\omega$ some three-vector. Multiplying by $R$ on both sides immediately gives an equation of $\\dot{R}$ in terms of $\\omega$:\n",
    "\n",
    "$$\\dot{R} = R \\hat{\\omega}.$$\n",
    "\n",
    "The above gives an expression for the derivative of a rotation matrix $\\dot{R}$ that\n",
    "will be used below in our formulation of drone dynamics.\n",
    "The vector $\\omega$ is called the **angular velocity**,\n",
    "and is the same angular velocity that you may have\n",
    "learned in an introductory physics course."
   ]
  }
 ],
 "metadata": {
  "colab": {
   "collapsed_sections": [],
   "include_colab_link": true,
   "name": "S71_drone_state.ipynb",
   "provenance": []
  },
  "interpreter": {
   "hash": "c6e4e9f98eb68ad3b7c296f83d20e6de614cb42e90992a65aa266555a3137d0d"
  },
  "kernelspec": {
   "display_name": "Python 3.9.6 64-bit ('base': conda)",
   "name": "python3"
  },
  "language_info": {
   "codemirror_mode": {
    "name": "ipython",
    "version": 3
   },
   "file_extension": ".py",
   "mimetype": "text/x-python",
   "name": "python",
   "nbconvert_exporter": "python",
   "pygments_lexer": "ipython3",
   "version": "3.8.12"
  },
  "latex_metadata": {
   "affiliation": "Georgia Institute of Technology",
   "author": "Frank Dellaert and Seth Hutchinson",
   "title": "Introduction to Robotics"
  }
 },
 "nbformat": 4,
 "nbformat_minor": 2
}
