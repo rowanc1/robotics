{
 "cells": [
  {
   "cell_type": "code",
   "execution_count": null,
   "metadata": {
    "tags": [
     "remove-cell"
    ]
   },
   "outputs": [],
   "source": [
    "%pip install -q -U gtbook\n"
   ]
  },
  {
   "attachments": {},
   "cell_type": "markdown",
   "metadata": {},
   "source": [
    "# Learning\n",
    "\n",
    "> By learning from data we can make smarter robots.\n",
    "\n",
    "<img src=\"Figures1/S16-Robot_menagerie-05.jpg\" alt=\"Splash image with robot with a spark in its (single) eye\" width=\"40%\" align=center style=\"vertical-align:middle;margin:10px 0px\">"
   ]
  },
  {
   "cell_type": "markdown",
   "metadata": {},
   "source": [
    "For many applications, it is impossible to program a robot for all situations that might occur.\n",
    "In some cases, this is due to the fact that arbitrarily many possible situations could occur.\n",
    "For example, a vacuum cleaning robot cannot anticipate all possible arrangements and types of furniture that\n",
    "might be found in a living room.\n",
    "In other applications, things are simply too complex to model exactly.\n",
    "Consider a bipedal robot walking over uneven terrain; the dynamics of the robot are already\n",
    "complex even for simple environments, but modeling the dynamics of walking over irregular\n",
    "terrain is essentially impossible.\n",
    "\n",
    "Machine learning approaches can be used in these situations to adapt to unknown or changing circumstances,\n",
    "or to improve the robot's performance over time.\n",
    "In this book, we will consider three main types of machine learning: \n",
    "* Reinforcement Learning (RL)\n",
    "* Deep Learning\n",
    "* Deep Reinforcement Learning (Deep RL)"
   ]
  },
  {
   "cell_type": "markdown",
   "metadata": {},
   "source": [
    "## Reinforcement Learning\n"
   ]
  },
  {
   "cell_type": "markdown",
   "metadata": {},
   "source": [
    "## Neural Networks"
   ]
  },
  {
   "cell_type": "markdown",
   "metadata": {},
   "source": [
    "## Deep Reinforcement Learning"
   ]
  }
 ],
 "metadata": {
  "kernelspec": {
   "display_name": "Python 3",
   "language": "python",
   "name": "python3"
  },
  "language_info": {
   "codemirror_mode": {
    "name": "ipython",
    "version": 3
   },
   "file_extension": ".py",
   "mimetype": "text/x-python",
   "name": "python",
   "nbconvert_exporter": "python",
   "pygments_lexer": "ipython3",
   "version": "3.9.12"
  },
  "latex_metadata": {
   "affiliation": "Georgia Institute of Technology",
   "author": "Frank Dellaert and Seth Hutchinson",
   "title": "Introduction to Robotics"
  },
  "vscode": {
   "interpreter": {
    "hash": "b0fa6594d8f4cbf19f97940f81e996739fb7646882a419484c72d19e05852a7e"
   }
  }
 },
 "nbformat": 4,
 "nbformat_minor": 2
}
