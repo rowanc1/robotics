{
 "cells": [
  {
   "cell_type": "markdown",
   "metadata": {
    "colab_type": "text",
    "id": "view-in-github",
    "tags": [
     "no-tex"
    ]
   },
   "source": [
    "<a href=\"https://colab.research.google.com/github/gtbook/robotics/blob/main/S51_diffdrive_intro.ipynb\" target=\"_parent\"><img src=\"https://colab.research.google.com/assets/colab-badge.svg\" alt=\"Open In Colab\"/></a>"
   ]
  },
  {
   "cell_type": "code",
   "execution_count": 1,
   "metadata": {
    "id": "JoW4C_OkOMhe",
    "tags": [
     "remove-cell"
    ]
   },
   "outputs": [
    {
     "name": "stdout",
     "output_type": "stream",
     "text": [
      "Note: you may need to restart the kernel to use updated packages.\n"
     ]
    }
   ],
   "source": [
    "%pip install -q -U gtbook\n"
   ]
  },
  {
   "cell_type": "code",
   "execution_count": null,
   "metadata": {
    "id": "10-snNDwOSuC",
    "tags": [
     "remove-cell"
    ]
   },
   "outputs": [],
   "source": []
  },
  {
   "attachments": {},
   "cell_type": "markdown",
   "metadata": {
    "id": "nAvx4-UCNzt2"
   },
   "source": [
    "# A Mobile Robot With Simple Kinematics\n",
    "\n",
    "> A simple, differential-drive robot that is similar to a car, but can rotate in place.\n",
    "\n",
    "<img src=\"Figures5/S50-Two-wheeled_Toy_Robot-02.jpg\" alt=\"Splash image with steampunk differential drive robot\" width=\"60%\" align=center style=\"vertical-align:middle;margin:10px 0px\">"
   ]
  },
  {
   "cell_type": "markdown",
   "metadata": {},
   "source": [
    "In this chapter we introduce a robot with differential drive, i.e, two wheels that can spin in either direction to move the robot forwards, backwards, or turn. In contrast to the previous chapter, we will now treat *orientation* as a first class citizen. \n",
    "\n",
    "The bulk of this chapter, however, is taken up by a new sensor: the *camera*. The last decade has seen spectacular advances in computer vision powered by new breakthroughs in machine learning, specifically deep neural networks in computer vision. We first lay the groundwork by describing cameras and mathematical models for image formation, and then dive in with some elementary image processing, In the perception section we discuss multilayer perceptrons and convolutional neural networks to give a taste for the machine learning methods currently in vogue. We also discuss *learning* the parameters of these networks in the last section.\n",
    "\n",
    "We structure this in the usual organization:\n",
    "- 5.1 State:\t\twe represent vehicle position $x$, $y$, but also vehicle orientation $theta$.\n",
    "- 5.2 Actuators: \twe discuss how to use differential drive to control orientation.\n",
    "- 5.3 Sensors: \t    the camera is introduced, along with image formation and some elementary image processing concepts.\n",
    "- 5.4 Perception: \there we look at *inference* with multi-layer perceptrons (MLPs) and convolutional neural networks (CNNs).\n",
    "- 5.5 Planning: \twe look at potential fields but also sampling-based planning methods for differential drive vehicles.\n",
    "- 5.5 Learning:     finally, we discuss stochastic gradient descent to *learn* parameters of neural networks.\n",
    "\n",
    "Many of these concepts transfer readily to other, more complicated robots and hence this is a key chapter in the book."
   ]
  },
  {
   "cell_type": "markdown",
   "metadata": {},
   "source": []
  }
 ],
 "metadata": {
  "colab": {
   "collapsed_sections": [],
   "include_colab_link": true,
   "name": "S51_diffdrive_intro.ipynb",
   "provenance": []
  },
  "interpreter": {
   "hash": "c6e4e9f98eb68ad3b7c296f83d20e6de614cb42e90992a65aa266555a3137d0d"
  },
  "kernelspec": {
   "display_name": "Python 3 (ipykernel)",
   "language": "python",
   "name": "python3"
  },
  "language_info": {
   "codemirror_mode": {
    "name": "ipython",
    "version": 3
   },
   "file_extension": ".py",
   "mimetype": "text/x-python",
   "name": "python",
   "nbconvert_exporter": "python",
   "pygments_lexer": "ipython3",
   "version": "3.8.12"
  },
  "latex_metadata": {
   "affiliation": "Georgia Institute of Technology",
   "author": "Frank Dellaert and Seth Hutchinson",
   "title": "Introduction to Robotics"
  }
 },
 "nbformat": 4,
 "nbformat_minor": 2
}
